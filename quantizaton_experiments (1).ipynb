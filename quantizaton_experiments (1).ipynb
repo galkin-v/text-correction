{
 "cells": [
  {
   "cell_type": "code",
   "execution_count": 1,
   "id": "8c670508-1bc7-4be2-9146-e35e432a783a",
   "metadata": {
    "tags": []
   },
   "outputs": [
    {
     "name": "stderr",
     "output_type": "stream",
     "text": [
      "/tmp/ipykernel_1274/1751918087.py:6: DeprecationWarning: Importing display from IPython.core.display is deprecated since IPython 7.14, please import from IPython.display\n",
      "  from IPython.core.display import display, HTML\n",
      "/opt/conda/lib/python3.10/site-packages/tqdm/auto.py:21: TqdmWarning: IProgress not found. Please update jupyter and ipywidgets. See https://ipywidgets.readthedocs.io/en/stable/user_install.html\n",
      "  from .autonotebook import tqdm as notebook_tqdm\n",
      "/tmp/ipykernel_1274/1751918087.py:15: UserWarning: WARNING: Unsloth should be imported before transformers to ensure all optimizations are applied. Your code may run slower or encounter memory issues without these optimizations.\n",
      "\n",
      "Please restructure your imports with 'import unsloth' at the top of your file.\n",
      "  from unsloth import FastLanguageModel\n"
     ]
    },
    {
     "name": "stdout",
     "output_type": "stream",
     "text": [
      "🦥 Unsloth: Will patch your computer to enable 2x faster free finetuning.\n"
     ]
    },
    {
     "name": "stderr",
     "output_type": "stream",
     "text": [
      "2025-05-19 01:08:43.566751: E external/local_xla/xla/stream_executor/cuda/cuda_dnn.cc:9261] Unable to register cuDNN factory: Attempting to register factory for plugin cuDNN when one has already been registered\n",
      "2025-05-19 01:08:43.566885: E external/local_xla/xla/stream_executor/cuda/cuda_fft.cc:607] Unable to register cuFFT factory: Attempting to register factory for plugin cuFFT when one has already been registered\n",
      "2025-05-19 01:08:43.674916: E external/local_xla/xla/stream_executor/cuda/cuda_blas.cc:1515] Unable to register cuBLAS factory: Attempting to register factory for plugin cuBLAS when one has already been registered\n",
      "2025-05-19 01:08:43.909459: I tensorflow/core/platform/cpu_feature_guard.cc:182] This TensorFlow binary is optimized to use available CPU instructions in performance-critical operations.\n",
      "To enable the following instructions: AVX2 FMA, in other operations, rebuild TensorFlow with the appropriate compiler flags.\n",
      "2025-05-19 01:08:45.744370: W tensorflow/compiler/tf2tensorrt/utils/py_utils.cc:38] TF-TRT Warning: Could not find TensorRT\n"
     ]
    },
    {
     "name": "stdout",
     "output_type": "stream",
     "text": [
      "🦥 Unsloth Zoo will now patch everything to make training faster!\n"
     ]
    }
   ],
   "source": [
    "import os\n",
    "import torch\n",
    "import pandas as pd\n",
    "import matplotlib.pyplot as plt\n",
    "import seaborn as sns\n",
    "from IPython.core.display import display, HTML\n",
    "from difflib import ndiff\n",
    "import time\n",
    "import gc\n",
    "from tqdm import tqdm\n",
    "\n",
    "# Hugging Face и Unsloth\n",
    "from datasets import load_dataset, Dataset\n",
    "from transformers import TextStreamer, BitsAndBytesConfig\n",
    "from unsloth import FastLanguageModel\n",
    "from trl import SFTTrainer, SFTConfig\n",
    "from peft import LoraConfig, PeftModel, get_peft_model\n",
    "from transformers import AutoTokenizer\n",
    "\n",
    "# Weights & Biases\n",
    "import wandb\n",
    "\n",
    "# Мои функции\n",
    "from utils import *"
   ]
  },
  {
   "cell_type": "code",
   "execution_count": 2,
   "id": "ca2dcadf-4fcb-4779-8206-46ff4e5987b6",
   "metadata": {
    "tags": []
   },
   "outputs": [
    {
     "name": "stderr",
     "output_type": "stream",
     "text": [
      "\u001b[34m\u001b[1mwandb\u001b[0m: \u001b[32m\u001b[41mERROR\u001b[0m Failed to detect the name of this notebook. You can set it manually with the WANDB_NOTEBOOK_NAME environment variable to enable code saving.\n",
      "\u001b[34m\u001b[1mwandb\u001b[0m: \u001b[33mWARNING\u001b[0m If you're specifying your api key in code, ensure this code is not shared publicly.\n",
      "\u001b[34m\u001b[1mwandb\u001b[0m: \u001b[33mWARNING\u001b[0m Consider setting the WANDB_API_KEY environment variable, or running `wandb login` from the command line.\n",
      "\u001b[34m\u001b[1mwandb\u001b[0m: Appending key for api.wandb.ai to your netrc file: /root/.netrc\n",
      "\u001b[34m\u001b[1mwandb\u001b[0m: Currently logged in as: \u001b[33mgalkin-vova1\u001b[0m (\u001b[33mgalkin-vova42\u001b[0m) to \u001b[32mhttps://api.wandb.ai\u001b[0m. Use \u001b[1m`wandb login --relogin`\u001b[0m to force relogin\n"
     ]
    },
    {
     "name": "stdout",
     "output_type": "stream",
     "text": [
      "Torch version: 2.7.0+cu126\n",
      "CUDA available: True\n",
      "CUDA version: 12.6\n",
      "Current device: 0\n",
      "Device name: NVIDIA GeForce RTX 4090\n"
     ]
    }
   ],
   "source": [
    "# Настройки\n",
    "HF_ACCESS_TOKEN = \"\"\n",
    "WANDB_PROJECT_NAME = \"quantization_experiments\"\n",
    "WANDB_NOTEBOOK_NAME = 'text-correction-experiments' # Имя этого ноутбука для WandB\n",
    "\n",
    "# Логин в WandB\n",
    "try:\n",
    "    WANDB_API_KEY = ''\n",
    "    wandb.login(key=WANDB_API_KEY)\n",
    "    anonymous = None\n",
    "except:\n",
    "    anonymous = \"must\" # или \"allow\" или \"never\"\n",
    "    wandb.login(anonymous=anonymous, relogin=True)\n",
    "\n",
    "print(f\"Torch version: {torch.__version__}\")\n",
    "print(f\"CUDA available: {torch.cuda.is_available()}\")\n",
    "if torch.cuda.is_available():\n",
    "    print(f\"CUDA version: {torch.version.cuda}\")\n",
    "    print(f\"Current device: {torch.cuda.current_device()}\")\n",
    "    print(f\"Device name: {torch.cuda.get_device_name(torch.cuda.current_device())}\")\n",
    "\n",
    "MAX_SEQ_LENGTH = 2048 # Длина контекста\n",
    "TARGET_MODULES = [\"q_proj\", \"k_proj\", \"v_proj\", \"o_proj\", \"gate_proj\", \"up_proj\", \"down_proj\"] # Модули для LoRA\n",
    "\n",
    "# Имена моделей\n",
    "# Для Эксперимента 1: Полная модель. Замените на точное имя 8B модели, если оно отличается.\n",
    "BASE_MODEL_NAME_FULL_PRECISION = \"unsloth/Qwen3-0.6B\"\n",
    "# Для Эксперимента 3: Предварительно квантованная модель от Unsloth\n",
    "BASE_MODEL_NAME_UNSLOTH_QUANTIZED = \"unsloth/Qwen3-0.6B-unsloth-bnb-4bit\"\n",
    "\n",
    "# Директории для сохранения моделей\n",
    "OUTPUT_DIR_LORA_FULL = \"./results_lora_full_precision\"\n",
    "OUTPUT_DIR_PTQ_8BIT = \"./results_ptq_8bit\"\n",
    "OUTPUT_DIR_PTQ_4BIT = \"./results_ptq_4bit\"\n",
    "OUTPUT_DIR_QLORA = \"./results_qlora\"\n",
    "MERGED_MODEL_DIR_FOR_PTQ = \"./merged_lora_full_model_for_ptq\"\n",
    "\n",
    "# Список для сбора результатов\n",
    "all_experiment_results = []"
   ]
  },
  {
   "cell_type": "code",
   "execution_count": 3,
   "id": "40797da2-3a56-4cb7-9030-790d4888811d",
   "metadata": {
    "tags": []
   },
   "outputs": [
    {
     "name": "stdout",
     "output_type": "stream",
     "text": [
      "Размер обучающего набора: 555\n",
      "Размер тестового набора: 139\n",
      "\n",
      "Пример из обучающего набора (сырой):\n",
      "{'text_with_errors': 'Глобальное потипление является одной из наиболее актуальных проблем современности. Средняя температура на планете неуклонно повышается что приводит к таянию ледников повышению уровня мирового океана и изменению климата. Основной причиной этого явления считается выброс парниковых газов в атмосферу в результате человеческой деятельности. Сжигание ископаемого топлива вырубка лесов и промышленное производство значительно увеличивают концентрацию углекислого газа в воздухе. Последствия глобального потепления могут быть катастрофическими: затопление прибрежных территорий усиление засух и наводнений исчезновение многих видов животных и растений. Для решения этой проблемы необходимы совместные усилия всех стран направленные на сокращение выбросов парниковых газов развитие альтернативных источников энергии и сохранение лесов. Каждый человек также может внести свой вклад в борьбу с глобальным потеплением используя энергоэффективные технологии сокращая потребление и выбирая экологически чистые продукты.', 'corrected_text': 'Глобальное потепление является одной из наиболее актуальных проблем современности. Средняя температура на планете неуклонно повышается, что приводит к таянию ледников, повышению уровня мирового океана и изменению климата. Основной причиной этого явления считается выброс парниковых газов в атмосферу в результате человеческой деятельности. Сжигание ископаемого топлива, вырубка лесов и промышленное производство значительно увеличивают концентрацию углекислого газа в воздухе. Последствия глобального потепления могут быть катастрофическими: затопление прибрежных территорий, усиление засух и наводнений, исчезновение многих видов животных и растений. Для решения этой проблемы необходимы совместные усилия всех стран, направленные на сокращение выбросов парниковых газов, развитие альтернативных источников энергии и сохранение лесов. Каждый человек также может внести свой вклад в борьбу с глобальным потеплением, используя энергоэффективные технологии, сокращая потребление и выбирая экологически чистые продукты.'}\n",
      "\n",
      "Пример из обучающего набора (форматированный ChatML):\n",
      "[{'content': 'Отредактируйте следующий текст. Очень важно, чтобы вы сохранили как можно больше оригинального текста. Вы можете вносить небольшие и нечастые правки, которые исправляют только грамматические, орфографические или пунктационные ошибки. Если в предложении нет ошибок, повторите предложение дословно. Не объясняйте свои правки и не добавляйте примечания. Используйте только русский язык.', 'role': 'system'}, {'content': 'Глобальное потипление является одной из наиболее актуальных проблем современности. Средняя температура на планете неуклонно повышается что приводит к таянию ледников повышению уровня мирового океана и изменению климата. Основной причиной этого явления считается выброс парниковых газов в атмосферу в результате человеческой деятельности. Сжигание ископаемого топлива вырубка лесов и промышленное производство значительно увеличивают концентрацию углекислого газа в воздухе. Последствия глобального потепления могут быть катастрофическими: затопление прибрежных территорий усиление засух и наводнений исчезновение многих видов животных и растений. Для решения этой проблемы необходимы совместные усилия всех стран направленные на сокращение выбросов парниковых газов развитие альтернативных источников энергии и сохранение лесов. Каждый человек также может внести свой вклад в борьбу с глобальным потеплением используя энергоэффективные технологии сокращая потребление и выбирая экологически чистые продукты.', 'role': 'user'}, {'content': 'Глобальное потепление является одной из наиболее актуальных проблем современности. Средняя температура на планете неуклонно повышается, что приводит к таянию ледников, повышению уровня мирового океана и изменению климата. Основной причиной этого явления считается выброс парниковых газов в атмосферу в результате человеческой деятельности. Сжигание ископаемого топлива, вырубка лесов и промышленное производство значительно увеличивают концентрацию углекислого газа в воздухе. Последствия глобального потепления могут быть катастрофическими: затопление прибрежных территорий, усиление засух и наводнений, исчезновение многих видов животных и растений. Для решения этой проблемы необходимы совместные усилия всех стран, направленные на сокращение выбросов парниковых газов, развитие альтернативных источников энергии и сохранение лесов. Каждый человек также может внести свой вклад в борьбу с глобальным потеплением, используя энергоэффективные технологии, сокращая потребление и выбирая экологически чистые продукты.', 'role': 'assistant'}]\n"
     ]
    }
   ],
   "source": [
    "# Загрузка датасета\n",
    "non_reasoning_dataset = load_dataset(\"galkinv42/text-correction-ru\", token=HF_ACCESS_TOKEN)\n",
    "dataset_split = non_reasoning_dataset['train'].train_test_split(test_size=0.2, seed=42)\n",
    "\n",
    "dataset_train_raw = dataset_split[\"train\"]\n",
    "dataset_test_raw = dataset_split[\"test\"]\n",
    "\n",
    "# Системный промпт и форматирование\n",
    "SYSTEM_PROMPT = 'Отредактируйте следующий текст. Очень важно, чтобы вы сохранили как можно больше оригинального текста. Вы можете вносить небольшие и нечастые правки, которые исправляют только грамматические, орфографические или пунктационные ошибки. Если в предложении нет ошибок, повторите предложение дословно. Не объясняйте свои правки и не добавляйте примечания. Используйте только русский язык.'\n",
    "\n",
    "def format_chatml(example):\n",
    "    return {\n",
    "        \"conv\": [\n",
    "            {\"role\": \"system\", \"content\": SYSTEM_PROMPT},\n",
    "            {\"role\": \"user\", \"content\": example[\"text_with_errors\"]},\n",
    "            {\"role\": \"assistant\", \"content\": example[\"corrected_text\"]}\n",
    "        ]\n",
    "    }\n",
    "\n",
    "dataset_train_formatted = dataset_train_raw.map(format_chatml)\n",
    "dataset_test_formatted = dataset_test_raw.map(format_chatml)\n",
    "\n",
    "# Функция форматирования будет применена позже, непосредственно перед обучением,\n",
    "# так как токенизатор может меняться для разных моделей.\n",
    "def formatting_prompts_func(examples, tokenizer_to_use):\n",
    "    convos = examples[\"conv\"]\n",
    "    texts = [tokenizer_to_use.apply_chat_template(convo, tokenize=False, add_generation_prompt=False) for convo in convos]\n",
    "    return {\"text\": texts}\n",
    "\n",
    "print(f\"Размер обучающего набора: {len(dataset_train_raw)}\")\n",
    "print(f\"Размер тестового набора: {len(dataset_test_raw)}\")\n",
    "print(\"\\nПример из обучающего набора (сырой):\")\n",
    "print(dataset_train_raw[0])\n",
    "print(\"\\nПример из обучающего набора (форматированный ChatML):\")\n",
    "print(dataset_train_formatted[0][\"conv\"])"
   ]
  },
  {
   "cell_type": "markdown",
   "id": "a6e2c0d5-b21a-47ee-b422-5e7cde3f7865",
   "metadata": {},
   "source": [
    "### Эксперимент 1: Обучение LoRa на \"полной\" модели Qwen (без предварительной квантизации)\n",
    "\n",
    "Мы будем использовать Qwen/Qwen2-7B-Instruct в качестве примера. Unsloth позволяет загружать и неквантованные модели и применять к ним LoRA."
   ]
  },
  {
   "cell_type": "code",
   "execution_count": 4,
   "id": "ba8a1943-8ef2-43db-a9bf-779bd60b64ca",
   "metadata": {
    "tags": []
   },
   "outputs": [],
   "source": [
    "def run_experiment_1_full_lora():\n",
    "    print(\"\\n--- Запуск Эксперимента 1: LoRa на полной модели ---\")\n",
    "    \n",
    "    run_name_wandb = \"exp1_lora_full_precision\"\n",
    "    wandb.init(entity='galkin-vova42', project=WANDB_PROJECT_NAME, name=run_name_wandb, job_type=\"train\", config={\"experiment_type\": \"lora_full_precision\", \"base_model\": BASE_MODEL_NAME_FULL_PRECISION}, reinit=False)\n",
    "\n",
    "    # Загрузка модели и токенизатора БЕЗ квантизации\n",
    "    # Unsloth также оптимизирует загрузку полных моделей\n",
    "    model, tokenizer = FastLanguageModel.from_pretrained(\n",
    "        model_name=BASE_MODEL_NAME_FULL_PRECISION,\n",
    "        max_seq_length=MAX_SEQ_LENGTH,\n",
    "        dtype=None, # Автоматический выбор или torch.float16, torch.bfloat16\n",
    "        load_in_4bit=False, # ВАЖНО: без 4-битной квантизации\n",
    "        load_in_8bit=False, # ВАЖНО: без 8-битной квантизации\n",
    "        token=HF_ACCESS_TOKEN,\n",
    "    )\n",
    "    \n",
    "    # Подготовка датасета с текущим токенизатором\n",
    "    dataset_train = Dataset.from_dict(formatting_prompts_func(dataset_train_formatted, tokenizer))\n",
    "    dataset_test = Dataset.from_dict(formatting_prompts_func(dataset_test_formatted, tokenizer))\n",
    "\n",
    "    # Добавление LoRA адаптеров\n",
    "    model = FastLanguageModel.get_peft_model(\n",
    "        model,\n",
    "        r=32,\n",
    "        target_modules=TARGET_MODULES,\n",
    "        lora_alpha=32, # Обычно alpha = r или 2*r\n",
    "        lora_dropout=0,\n",
    "        bias=\"none\",\n",
    "        use_gradient_checkpointing=\"unsloth\",\n",
    "        random_state=42,\n",
    "        use_rslora=False,\n",
    "        loftq_config=None,\n",
    "    )\n",
    "    \n",
    "    trainer_config = SFTConfig(\n",
    "        dataset_text_field=\"text\",\n",
    "        output_dir=OUTPUT_DIR_LORA_FULL,\n",
    "        per_device_train_batch_size=3,\n",
    "        per_device_eval_batch_size=3,\n",
    "        gradient_accumulation_steps=4, # Увеличиваем GA\n",
    "        warmup_steps=10, # Увеличено для стабильности\n",
    "        do_eval=True,\n",
    "        eval_steps=20, # Чаще оценка\n",
    "        save_steps=20,\n",
    "        save_total_limit=2, # Сохраняем лучшую и последнюю\n",
    "        greater_is_better=False,\n",
    "        load_best_model_at_end=True,\n",
    "        eval_strategy='steps',\n",
    "        metric_for_best_model=\"eval_loss\",\n",
    "        max_steps=100,\n",
    "        learning_rate=1e-4, # Может потребоваться подстройка (1e-4 to 2e-5)\n",
    "        logging_steps=1,\n",
    "        optim=\"adamw_torch\", # Оптимизатор для неквантованных моделей\n",
    "        weight_decay=0.01,\n",
    "        lr_scheduler_type=\"linear\",\n",
    "        seed=42,\n",
    "        report_to=\"wandb\",\n",
    "        fp16=not torch.cuda.is_bf16_supported(), # Используем fp16 если bf16 не доступен\n",
    "        bf16=torch.cuda.is_bf16_supported(),\n",
    "    )\n",
    "\n",
    "    trainer = SFTTrainer(\n",
    "        model=model,\n",
    "        tokenizer=tokenizer,\n",
    "        train_dataset=dataset_train,\n",
    "        eval_dataset=dataset_test,\n",
    "        args=trainer_config,\n",
    "    )\n",
    "\n",
    "    # Память до обучения\n",
    "    gpu_stats = torch.cuda.get_device_properties(0) if torch.cuda.is_available() else None\n",
    "    start_gpu_memory = round(torch.cuda.max_memory_reserved() / 1024**3, 3) if torch.cuda.is_available() else 0\n",
    "    \n",
    "    print(\"Начало обучения LoRa на полной модели...\")\n",
    "    trainer_stats = trainer.train()\n",
    "    \n",
    "    # Память после обучения\n",
    "    if torch.cuda.is_available():\n",
    "        used_memory = round(torch.cuda.max_memory_reserved() / 1024**3, 3)\n",
    "        used_memory_for_lora = round(used_memory - start_gpu_memory, 3)\n",
    "        print(f\"Пиковая VRAM для обучения (полная LoRa): {used_memory_for_lora:.3f} GB\")\n",
    "        wandb.log({\"peak_vram_train_gb\": used_memory_for_lora})\n",
    "\n",
    "\n",
    "    # Сохранение лучшей модели (адаптеров)\n",
    "    # SFTTrainer с load_best_model_at_end=True уже загрузил лучшую модель\n",
    "    best_model_path = os.path.join(OUTPUT_DIR_LORA_FULL, \"best_lora_adapters\")\n",
    "    model.save_pretrained(best_model_path)\n",
    "    tokenizer.save_pretrained(best_model_path)\n",
    "    print(f\"Лучшие LoRa адаптеры сохранены в: {best_model_path}\")\n",
    "    wandb.save(os.path.join(best_model_path, \"*\")) # Сохраняем артефакты в wandb\n",
    "\n",
    "    print(\"Оценка лучшей модели (пакетная обработка)...\")\n",
    "    \n",
    "    predictions = []\n",
    "    references_batch_eval = [] # Переименовано, чтобы избежать конфликта с глобальной references\n",
    "    sample_inference_latencies = [] # Будет хранить время на обработку одного батча\n",
    "\n",
    "    # Используем небольшой срез тестового датасета для быстрой оценки\n",
    "    num_samples_for_eval = min(100, len(dataset_test_raw)) # Увеличьте для более точной оценки\n",
    "    eval_batch_size = 8\n",
    "\n",
    "    # Подготовка данных для оценки\n",
    "    eval_data = []\n",
    "    for i in range(num_samples_for_eval):\n",
    "        example = dataset_test_raw[i]\n",
    "        eval_data.append({\n",
    "            \"user_content\": example[\"text_with_errors\"],\n",
    "            \"reference_text\": example[\"corrected_text\"]\n",
    "        })\n",
    "\n",
    "    # Память перед инференсом (модель уже загружена)\n",
    "    if torch.cuda.is_available():\n",
    "        torch.cuda.reset_peak_memory_stats() # Сброс статистики для замера пиковой памяти на инференс\n",
    "        initial_inference_vram = torch.cuda.max_memory_allocated()\n",
    "    else:\n",
    "        initial_inference_vram = 0\n",
    "\n",
    "    device = \"cuda\" if torch.cuda.is_available() else \"cpu\"\n",
    "\n",
    "    for batch_data in tqdm(create_batches(eval_data, eval_batch_size)):\n",
    "        batch_prompts_text = []\n",
    "        current_references = []\n",
    "\n",
    "        for item in batch_data:\n",
    "            messages = [\n",
    "                {\"role\": \"system\", \"content\": SYSTEM_PROMPT},\n",
    "                {\"role\": \"user\", \"content\": item[\"user_content\"]}\n",
    "            ]\n",
    "            prompt_text = tokenizer.apply_chat_template(messages, tokenize=False, add_generation_prompt=True)\n",
    "            batch_prompts_text.append(prompt_text)\n",
    "            current_references.append(item[\"reference_text\"].strip())\n",
    "        \n",
    "        inputs = tokenizer(\n",
    "            batch_prompts_text, \n",
    "            return_tensors=\"pt\", \n",
    "            padding=True,\n",
    "            truncation=True,\n",
    "            max_length=tokenizer.model_max_length if tokenizer.model_max_length < MAX_SEQ_LENGTH else MAX_SEQ_LENGTH # Используем меньшее из двух\n",
    "        ).to(device)\n",
    "\n",
    "        start_time = time.time()\n",
    "        with torch.no_grad():\n",
    "            outputs = model.generate(\n",
    "                **inputs, \n",
    "                max_new_tokens=min(512, MAX_SEQ_LENGTH),\n",
    "                temperature=0.01,\n",
    "                do_sample=False,\n",
    "                pad_token_id=tokenizer.pad_token_id # Явно указываем pad_token_id\n",
    "            )\n",
    "        end_time = time.time()\n",
    "        sample_inference_latencies.append(end_time - start_time) # Время на весь батч\n",
    "        \n",
    "        input_ids_lengths = inputs.attention_mask.sum(dim=1).tolist() # Длины реальных токенов в промпте (без паддинга)\n",
    "\n",
    "        batch_output_texts = []\n",
    "        for i in range(outputs.shape[0]):\n",
    "            \n",
    "            generated_tokens_only = outputs[i, input_ids_lengths[i]:]\n",
    "            output_text = tokenizer.decode(generated_tokens_only, skip_special_tokens=True)\n",
    "            batch_output_texts.append(output_text.strip())\n",
    "            \n",
    "        predictions.extend(batch_output_texts)\n",
    "        references_batch_eval.extend(current_references)\n",
    "\n",
    "    if torch.cuda.is_available():\n",
    "        peak_inference_vram_bytes = torch.cuda.max_memory_allocated() \n",
    "        peak_inference_vram = peak_inference_vram_bytes / (1024**3)\n",
    "    else:\n",
    "        peak_inference_vram = 0\n",
    "    \n",
    "    bleu_score = calculate_bleu(predictions, references_batch_eval)\n",
    "    cer_score = calculate_cer(predictions, references_batch_eval)\n",
    "    \n",
    "    total_inference_time = sum(sample_inference_latencies)\n",
    "    avg_latency_per_sample = total_inference_time / num_samples_for_eval if num_samples_for_eval > 0 else -1\n",
    "\n",
    "\n",
    "    print(f\"BLEU ({model_name_str if 'model_name_str' in locals() else 'Current Model'}): {bleu_score:.4f}\")\n",
    "    print(f\"CER ({model_name_str if 'model_name_str' in locals() else 'Current Model'}): {cer_score:.4f}\")\n",
    "    print(f\"Avg Inference Latency per sample ({model_name_str if 'model_name_str' in locals() else 'Current Model'}): {avg_latency_per_sample:.4f} s\")\n",
    "    print(f\"Peak VRAM during batched inference ({model_name_str if 'model_name_str' in locals() else 'Current Model'}): {peak_inference_vram:.3f} GB\")\n",
    "\n",
    "\n",
    "    trainable_params, total_params = get_model_trainable_parameters(model)\n",
    "    \n",
    "    results = {\n",
    "        \"experiment_group\": \"LoRa Full Precision\",\n",
    "        \"model_name\": f\"LoRa ({BASE_MODEL_NAME_FULL_PRECISION})\",\n",
    "        \"val_loss\": trainer.state.best_model_checkpoint_loss if hasattr(trainer.state, \"best_model_checkpoint_loss\") else trainer_stats.training_loss,\n",
    "        \"bleu\": bleu_score,\n",
    "        \"cer\": cer_score,\n",
    "        \"trainable_params\": trainable_params,\n",
    "        \"total_params\": total_params,\n",
    "        \"vram_train_peak_gb\": used_memory_for_lora if torch.cuda.is_available() else 0,\n",
    "        \"vram_inference_peak_gb\": peak_inference_vram,\n",
    "        \"avg_inference_latency_s\": avg_latency_per_sample,\n",
    "        \"model_path\": best_model_path,\n",
    "    }\n",
    "    all_experiment_results.append(results)\n",
    "    wandb.log({\n",
    "        \"eval_bleu\": bleu_score, \"eval_cer\": cer_score, \"avg_inference_latency\": avg_latency_per_sample,\n",
    "        \"trainable_params\": trainable_params, \"total_params\": total_params,\n",
    "        \"peak_inference_vram_gb\": peak_inference_vram\n",
    "    })\n",
    "    \n",
    "    wandb.finish()\n",
    "    \n",
    "    # Очистка\n",
    "    clear_gpu_memory(model, trainer)\n",
    "    return best_model_path, tokenizer"
   ]
  },
  {
   "cell_type": "code",
   "execution_count": 5,
   "id": "35b28742-96e7-4667-94b3-fed9c42a4777",
   "metadata": {
    "tags": []
   },
   "outputs": [
    {
     "name": "stderr",
     "output_type": "stream",
     "text": [
      "\u001b[34m\u001b[1mwandb\u001b[0m: \u001b[33mWARNING\u001b[0m Using a boolean value for 'reinit' is deprecated. Use 'return_previous' or 'finish_previous' instead.\n"
     ]
    },
    {
     "name": "stdout",
     "output_type": "stream",
     "text": [
      "\n",
      "--- Запуск Эксперимента 1: LoRa на полной модели ---\n"
     ]
    },
    {
     "data": {
      "text/html": [
       "Tracking run with wandb version 0.19.11"
      ],
      "text/plain": [
       "<IPython.core.display.HTML object>"
      ]
     },
     "metadata": {},
     "output_type": "display_data"
    },
    {
     "data": {
      "text/html": [
       "Run data is saved locally in <code>/text-correction/all_exps/wandb/run-20250518_205835-zwa8ac00</code>"
      ],
      "text/plain": [
       "<IPython.core.display.HTML object>"
      ]
     },
     "metadata": {},
     "output_type": "display_data"
    },
    {
     "data": {
      "text/html": [
       "Syncing run <strong><a href='https://wandb.ai/galkin-vova42/quantization_experiments/runs/zwa8ac00' target=\"_blank\">exp1_lora_full_precision</a></strong> to <a href='https://wandb.ai/galkin-vova42/quantization_experiments' target=\"_blank\">Weights & Biases</a> (<a href='https://wandb.me/developer-guide' target=\"_blank\">docs</a>)<br>"
      ],
      "text/plain": [
       "<IPython.core.display.HTML object>"
      ]
     },
     "metadata": {},
     "output_type": "display_data"
    },
    {
     "data": {
      "text/html": [
       " View project at <a href='https://wandb.ai/galkin-vova42/quantization_experiments' target=\"_blank\">https://wandb.ai/galkin-vova42/quantization_experiments</a>"
      ],
      "text/plain": [
       "<IPython.core.display.HTML object>"
      ]
     },
     "metadata": {},
     "output_type": "display_data"
    },
    {
     "data": {
      "text/html": [
       " View run at <a href='https://wandb.ai/galkin-vova42/quantization_experiments/runs/zwa8ac00' target=\"_blank\">https://wandb.ai/galkin-vova42/quantization_experiments/runs/zwa8ac00</a>"
      ],
      "text/plain": [
       "<IPython.core.display.HTML object>"
      ]
     },
     "metadata": {},
     "output_type": "display_data"
    },
    {
     "name": "stdout",
     "output_type": "stream",
     "text": [
      "==((====))==  Unsloth 2025.5.6: Fast Qwen3 patching. Transformers: 4.51.3.\n",
      "   \\\\   /|    NVIDIA GeForce RTX 4090. Num GPUs = 1. Max memory: 23.526 GB. Platform: Linux.\n",
      "O^O/ \\_/ \\    Torch: 2.7.0+cu126. CUDA: 8.9. CUDA Toolkit: 12.6. Triton: 3.3.0\n",
      "\\        /    Bfloat16 = TRUE. FA [Xformers = 0.0.30. FA2 = False]\n",
      " \"-____-\"     Free license: http://github.com/unslothai/unsloth\n",
      "Unsloth: Fast downloading is enabled - ignore downloading bars which are red colored!\n"
     ]
    },
    {
     "name": "stderr",
     "output_type": "stream",
     "text": [
      "Unsloth 2025.5.6 patched 28 layers with 28 QKV layers, 28 O layers and 28 MLP layers.\n",
      "Unsloth: Tokenizing [\"text\"] (num_proc=2): 100%|██████████| 555/555 [00:01<00:00, 342.08 examples/s]\n",
      "Unsloth: Tokenizing [\"text\"] (num_proc=2): 100%|██████████| 139/139 [00:01<00:00, 134.40 examples/s]\n"
     ]
    },
    {
     "name": "stdout",
     "output_type": "stream",
     "text": [
      "Начало обучения LoRa на полной модели...\n"
     ]
    },
    {
     "name": "stderr",
     "output_type": "stream",
     "text": [
      "==((====))==  Unsloth - 2x faster free finetuning | Num GPUs used = 1\n",
      "   \\\\   /|    Num examples = 555 | Num Epochs = 3 | Total steps = 100\n",
      "O^O/ \\_/ \\    Batch size per device = 3 | Gradient accumulation steps = 4\n",
      "\\        /    Data Parallel GPUs = 1 | Total batch size (3 x 4 x 1) = 12\n",
      " \"-____-\"     Trainable parameters = 20,185,088/616,235,008 (3.28% trained)\n",
      "\u001b[34m\u001b[1mwandb\u001b[0m: \u001b[33mWARNING\u001b[0m The `run_name` is currently set to the same value as `TrainingArguments.output_dir`. If this was not intended, please specify a different run name by setting the `TrainingArguments.run_name` parameter.\n"
     ]
    },
    {
     "name": "stdout",
     "output_type": "stream",
     "text": [
      "Unsloth: Will smartly offload gradients to save VRAM!\n"
     ]
    },
    {
     "data": {
      "text/html": [
       "\n",
       "    <div>\n",
       "      \n",
       "      <progress value='100' max='100' style='width:300px; height:20px; vertical-align: middle;'></progress>\n",
       "      [100/100 02:25, Epoch 2/3]\n",
       "    </div>\n",
       "    <table border=\"1\" class=\"dataframe\">\n",
       "  <thead>\n",
       " <tr style=\"text-align: left;\">\n",
       "      <th>Step</th>\n",
       "      <th>Training Loss</th>\n",
       "      <th>Validation Loss</th>\n",
       "    </tr>\n",
       "  </thead>\n",
       "  <tbody>\n",
       "    <tr>\n",
       "      <td>20</td>\n",
       "      <td>1.277200</td>\n",
       "      <td>1.236925</td>\n",
       "    </tr>\n",
       "    <tr>\n",
       "      <td>40</td>\n",
       "      <td>1.075700</td>\n",
       "      <td>1.168622</td>\n",
       "    </tr>\n",
       "    <tr>\n",
       "      <td>60</td>\n",
       "      <td>1.123300</td>\n",
       "      <td>1.149048</td>\n",
       "    </tr>\n",
       "    <tr>\n",
       "      <td>80</td>\n",
       "      <td>1.248100</td>\n",
       "      <td>1.142154</td>\n",
       "    </tr>\n",
       "    <tr>\n",
       "      <td>100</td>\n",
       "      <td>1.087500</td>\n",
       "      <td>1.139461</td>\n",
       "    </tr>\n",
       "  </tbody>\n",
       "</table><p>"
      ],
      "text/plain": [
       "<IPython.core.display.HTML object>"
      ]
     },
     "metadata": {},
     "output_type": "display_data"
    },
    {
     "name": "stderr",
     "output_type": "stream",
     "text": [
      "Unsloth: Not an error, but Qwen3ForCausalLM does not accept `num_items_in_batch`.\n",
      "Using gradient accumulation will be very slightly less accurate.\n",
      "Read more on gradient accumulation issues here: https://unsloth.ai/blog/gradient\n"
     ]
    },
    {
     "name": "stdout",
     "output_type": "stream",
     "text": [
      "Пиковая VRAM для обучения (полная LoRa): 2.008 GB\n"
     ]
    },
    {
     "name": "stderr",
     "output_type": "stream",
     "text": [
      "\u001b[34m\u001b[1mwandb\u001b[0m: \u001b[33mWARNING\u001b[0m Symlinked 9 files into the W&B run directory, call wandb.save again to sync new files.\n"
     ]
    },
    {
     "name": "stdout",
     "output_type": "stream",
     "text": [
      "Лучшие LoRa адаптеры сохранены в: ./results_lora_full_precision/best_lora_adapters\n",
      "Оценка лучшей модели (пакетная обработка)...\n"
     ]
    },
    {
     "name": "stderr",
     "output_type": "stream",
     "text": [
      "0it [00:00, ?it/s]A decoder-only architecture is being used, but right-padding was detected! For correct generation results, please set `padding_side='left'` when initializing the tokenizer.\n",
      "/opt/conda/lib/python3.10/site-packages/unsloth/kernels/utils.py:438: UserWarning: An output with one or more elements was resized since it had shape [1, 8, 1024], which does not match the required output shape [8, 1, 1024]. This behavior is deprecated, and in a future PyTorch release outputs will not be resized unless they have zero elements. You can explicitly reuse an out tensor t by resizing it, inplace, to zero elements with t.resize_(0). (Triggered internally at /pytorch/aten/src/ATen/native/Resize.cpp:30.)\n",
      "  out = torch_matmul(X, W.t(), out = out)\n",
      "1it [00:21, 21.02s/it]A decoder-only architecture is being used, but right-padding was detected! For correct generation results, please set `padding_side='left'` when initializing the tokenizer.\n",
      "2it [00:41, 20.88s/it]A decoder-only architecture is being used, but right-padding was detected! For correct generation results, please set `padding_side='left'` when initializing the tokenizer.\n",
      "3it [01:02, 20.81s/it]A decoder-only architecture is being used, but right-padding was detected! For correct generation results, please set `padding_side='left'` when initializing the tokenizer.\n",
      "4it [01:23, 20.78s/it]A decoder-only architecture is being used, but right-padding was detected! For correct generation results, please set `padding_side='left'` when initializing the tokenizer.\n",
      "5it [01:44, 20.78s/it]A decoder-only architecture is being used, but right-padding was detected! For correct generation results, please set `padding_side='left'` when initializing the tokenizer.\n",
      "6it [02:04, 20.80s/it]A decoder-only architecture is being used, but right-padding was detected! For correct generation results, please set `padding_side='left'` when initializing the tokenizer.\n",
      "7it [02:25, 20.81s/it]A decoder-only architecture is being used, but right-padding was detected! For correct generation results, please set `padding_side='left'` when initializing the tokenizer.\n",
      "8it [02:46, 20.82s/it]A decoder-only architecture is being used, but right-padding was detected! For correct generation results, please set `padding_side='left'` when initializing the tokenizer.\n",
      "9it [03:07, 20.82s/it]A decoder-only architecture is being used, but right-padding was detected! For correct generation results, please set `padding_side='left'` when initializing the tokenizer.\n",
      "10it [03:28, 20.81s/it]A decoder-only architecture is being used, but right-padding was detected! For correct generation results, please set `padding_side='left'` when initializing the tokenizer.\n",
      "11it [03:48, 20.80s/it]A decoder-only architecture is being used, but right-padding was detected! For correct generation results, please set `padding_side='left'` when initializing the tokenizer.\n",
      "12it [04:09, 20.78s/it]A decoder-only architecture is being used, but right-padding was detected! For correct generation results, please set `padding_side='left'` when initializing the tokenizer.\n",
      "/opt/conda/lib/python3.10/site-packages/unsloth/kernels/utils.py:438: UserWarning: An output with one or more elements was resized since it had shape [1, 4, 1024], which does not match the required output shape [4, 1, 1024]. This behavior is deprecated, and in a future PyTorch release outputs will not be resized unless they have zero elements. You can explicitly reuse an out tensor t by resizing it, inplace, to zero elements with t.resize_(0). (Triggered internally at /pytorch/aten/src/ATen/native/Resize.cpp:30.)\n",
      "  out = torch_matmul(X, W.t(), out = out)\n",
      "13it [04:29, 20.75s/it]\n"
     ]
    },
    {
     "name": "stdout",
     "output_type": "stream",
     "text": [
      "BLEU (Current Model): 0.1648\n",
      "CER (Current Model): 0.8239\n",
      "Avg Inference Latency per sample (Current Model): 2.6946 s\n",
      "Peak VRAM during batched inference (Current Model): 3.524 GB\n"
     ]
    },
    {
     "data": {
      "text/html": [],
      "text/plain": [
       "<IPython.core.display.HTML object>"
      ]
     },
     "metadata": {},
     "output_type": "display_data"
    },
    {
     "data": {
      "text/html": [
       "<br>    <style><br>        .wandb-row {<br>            display: flex;<br>            flex-direction: row;<br>            flex-wrap: wrap;<br>            justify-content: flex-start;<br>            width: 100%;<br>        }<br>        .wandb-col {<br>            display: flex;<br>            flex-direction: column;<br>            flex-basis: 100%;<br>            flex: 1;<br>            padding: 10px;<br>        }<br>    </style><br><div class=\"wandb-row\"><div class=\"wandb-col\"><h3>Run history:</h3><br/><table class=\"wandb\"><tr><td>avg_inference_latency</td><td>▁</td></tr><tr><td>eval/loss</td><td>█▃▂▁▁</td></tr><tr><td>eval/runtime</td><td>█▁▁▂▁</td></tr><tr><td>eval/samples_per_second</td><td>▁██▇█</td></tr><tr><td>eval/steps_per_second</td><td>▁██▇█</td></tr><tr><td>eval_bleu</td><td>▁</td></tr><tr><td>eval_cer</td><td>▁</td></tr><tr><td>peak_inference_vram_gb</td><td>▁</td></tr><tr><td>peak_vram_train_gb</td><td>▁</td></tr><tr><td>total_params</td><td>▁</td></tr><tr><td>train/epoch</td><td>▁▁▁▁▁▂▂▂▂▂▃▃▃▃▃▄▄▄▄▄▄▅▅▅▅▅▆▆▆▆▆▇▇▇▇▇▇▇██</td></tr><tr><td>train/global_step</td><td>▁▁▁▁▁▂▂▂▂▂▂▃▃▃▄▄▄▄▄▄▅▅▅▅▅▅▅▅▆▆▆▆▆▇▇▇████</td></tr><tr><td>train/grad_norm</td><td>█▇▇▆▆▅▅▃▃▄▃▂▂▂▂▂▂▁▁▁▂▁▁▁▁▁▁▁▁▁▁▁▁▁▂▁▁▁▁▁</td></tr><tr><td>train/learning_rate</td><td>▂▆▇▇██▇▇▇▇▆▆▆▆▆▆▆▆▅▅▅▅▅▄▄▄▃▃▃▃▃▃▂▂▂▂▂▂▁▁</td></tr><tr><td>train/loss</td><td>█▇▇▅▄▃▃▂▂▃▂▃▂▃▂▁▁▂▁▃▂▂▂▁▂▂▁▂▂▁▁▂▁▁▁▂▃▂▁▂</td></tr><tr><td>trainable_params</td><td>▁</td></tr></table><br/></div><div class=\"wandb-col\"><h3>Run summary:</h3><br/><table class=\"wandb\"><tr><td>avg_inference_latency</td><td>2.69462</td></tr><tr><td>eval/loss</td><td>1.13946</td></tr><tr><td>eval/runtime</td><td>4.6706</td></tr><tr><td>eval/samples_per_second</td><td>29.761</td></tr><tr><td>eval/steps_per_second</td><td>10.063</td></tr><tr><td>eval_bleu</td><td>0.16478</td></tr><tr><td>eval_cer</td><td>0.82386</td></tr><tr><td>peak_inference_vram_gb</td><td>3.5242</td></tr><tr><td>peak_vram_train_gb</td><td>2.008</td></tr><tr><td>total_flos</td><td>4089505608105984.0</td></tr><tr><td>total_params</td><td>616235008</td></tr><tr><td>train/epoch</td><td>2.12973</td></tr><tr><td>train/global_step</td><td>100</td></tr><tr><td>train/grad_norm</td><td>0.27834</td></tr><tr><td>train/learning_rate</td><td>0.0</td></tr><tr><td>train/loss</td><td>1.0875</td></tr><tr><td>train_loss</td><td>1.21314</td></tr><tr><td>train_runtime</td><td>147.8446</td></tr><tr><td>train_samples_per_second</td><td>8.117</td></tr><tr><td>train_steps_per_second</td><td>0.676</td></tr><tr><td>trainable_params</td><td>20185088</td></tr></table><br/></div></div>"
      ],
      "text/plain": [
       "<IPython.core.display.HTML object>"
      ]
     },
     "metadata": {},
     "output_type": "display_data"
    },
    {
     "data": {
      "text/html": [
       " View run <strong style=\"color:#cdcd00\">exp1_lora_full_precision</strong> at: <a href='https://wandb.ai/galkin-vova42/quantization_experiments/runs/zwa8ac00' target=\"_blank\">https://wandb.ai/galkin-vova42/quantization_experiments/runs/zwa8ac00</a><br> View project at: <a href='https://wandb.ai/galkin-vova42/quantization_experiments' target=\"_blank\">https://wandb.ai/galkin-vova42/quantization_experiments</a><br>Synced 5 W&B file(s), 0 media file(s), 0 artifact file(s) and 9 other file(s)"
      ],
      "text/plain": [
       "<IPython.core.display.HTML object>"
      ]
     },
     "metadata": {},
     "output_type": "display_data"
    },
    {
     "data": {
      "text/html": [
       "Find logs at: <code>./wandb/run-20250518_205835-zwa8ac00/logs</code>"
      ],
      "text/plain": [
       "<IPython.core.display.HTML object>"
      ]
     },
     "metadata": {},
     "output_type": "display_data"
    },
    {
     "name": "stdout",
     "output_type": "stream",
     "text": [
      "GPU memory cleared.\n",
      "Эксперимент 1 завершен. Адаптеры в: ./results_lora_full_precision/best_lora_adapters\n"
     ]
    }
   ],
   "source": [
    "path_to_lora_full_adapters, tokenizer_lora_full = run_experiment_1_full_lora()\n",
    "print(f\"Эксперимент 1 завершен. Адаптеры в: {path_to_lora_full_adapters}\")"
   ]
  },
  {
   "cell_type": "markdown",
   "id": "a6059080-391c-43c8-9b27-b0d80b6ad5d6",
   "metadata": {
    "tags": []
   },
   "source": [
    "### QLora"
   ]
  },
  {
   "cell_type": "code",
   "execution_count": 6,
   "id": "a5c62936-2548-4289-b188-75e71d194c8d",
   "metadata": {
    "tags": []
   },
   "outputs": [],
   "source": [
    "def run_experiment_3_qlora(results_accumulator_list):\n",
    "    print(\"\\n--- Запуск Эксперимента 3: QLoRa ---\")\n",
    "    \n",
    "    ranks = [16, 32] \n",
    "    alphas_map = {16: [32], 32: [64]}\n",
    "\n",
    "    best_params_qlora = {\"r\": 0, \"alpha\": 0, \"loss\": float('inf')}\n",
    "    \n",
    "    # Загрузка базовой квантованной модели и токенизатора один раз для HPO\n",
    "    base_q_model_for_hpo, tokenizer_qlora = FastLanguageModel.from_pretrained(\n",
    "        model_name=BASE_MODEL_NAME_UNSLOTH_QUANTIZED,\n",
    "        max_seq_length=MAX_SEQ_LENGTH,\n",
    "        load_in_4bit=True,\n",
    "        token=HF_ACCESS_TOKEN,\n",
    "    )\n",
    "    \n",
    "    dataset_train_q = Dataset.from_dict(formatting_prompts_func(dataset_train_formatted, tokenizer_qlora))\n",
    "    dataset_test_q = Dataset.from_dict(formatting_prompts_func(dataset_test_formatted, tokenizer_qlora))\n",
    "\n",
    "    print(\"Подбор гиперпараметров r и alpha для QLoRa...\")\n",
    "    for r_val in ranks:\n",
    "        for alpha_val in alphas_map[r_val]:\n",
    "            current_run_name_hpo = f\"qlora_hpo_r{r_val}_a{alpha_val}\"\n",
    "            print(f\"\\nТестирование QLoRa с r={r_val}, alpha={alpha_val}\")\n",
    "            \n",
    "            # Для каждой HPO итерации - новый run\n",
    "            wandb.init(entity='galkin-vova42', project=WANDB_PROJECT_NAME, name=current_run_name_hpo, job_type=\"hpo_qlora\", \n",
    "                       config={\"experiment_type\": \"qlora_hpo\", \"r\": r_val, \"alpha\": alpha_val, \"base_model\": BASE_MODEL_NAME_UNSLOTH_QUANTIZED},\n",
    "                       reinit=True)\n",
    "            \n",
    "            # Создаем PEFT модель. Unsloth должен корректно обрабатывать применение новых адаптеров.\n",
    "            # Для полной уверенности можно перезагружать base_q_model_for_hpo, но попробуем так.\n",
    "            # Если будут проблемы с \"наслоением\" адаптеров, потребуется перезагрузка базовой модели в цикле.\n",
    "            # Unsloth FastLanguageModel.get_peft_model должен создавать новые адаптеры.\n",
    "            \n",
    "            # Чтобы избежать модификации base_q_model_for_hpo, если get_peft_model работает inplace (хотя не должен)\n",
    "            # или если предыдущие адаптеры не удаляются корректно, можно было бы загружать temp_base_model,\n",
    "            # но это замедлит HPO. Полагаемся на Unsloth.\n",
    "            if 'peft_q_model_hpo' in locals(): # Очистка предыдущей HPO модели\n",
    "                 clear_gpu_memory(peft_q_model_hpo)\n",
    "\n",
    "            peft_q_model_hpo = FastLanguageModel.get_peft_model(\n",
    "                base_q_model_for_hpo, # Используем одну и ту же базовую квантованную модель\n",
    "                r=r_val,\n",
    "                target_modules=TARGET_MODULES,\n",
    "                lora_alpha=alpha_val,\n",
    "                lora_dropout=0,\n",
    "                bias=\"none\",\n",
    "                use_gradient_checkpointing=\"unsloth\", # \"unsloth\" предпочтительнее True\n",
    "                random_state=42,\n",
    "            )\n",
    "\n",
    "            trainer_q_hpo = SFTTrainer(\n",
    "                model=peft_q_model_hpo,\n",
    "                tokenizer=tokenizer_qlora,\n",
    "                train_dataset=dataset_train_q,\n",
    "                eval_dataset=dataset_test_q, \n",
    "                args=SFTConfig(\n",
    "                    dataset_text_field=\"text\",\n",
    "                    output_dir=f\"./results_qlora_hpo_r{r_val}_a{alpha_val}\", # Временная директория\n",
    "                    per_device_train_batch_size=2, # Как в вашем оригинальном коде для QLoRA\n",
    "                    gradient_accumulation_steps=4,\n",
    "                    warmup_steps=5,\n",
    "                    max_steps=30, \n",
    "                    learning_rate=2e-4,\n",
    "                    logging_steps=5,\n",
    "                    optim=\"adamw_8bit\", \n",
    "                    weight_decay=0.01,\n",
    "                    lr_scheduler_type=\"linear\",\n",
    "                    seed=42,\n",
    "                    report_to=\"wandb\",\n",
    "                    do_eval=True,\n",
    "                    eval_strategy=\"steps\",\n",
    "                    eval_steps=10,\n",
    "                    save_strategy=\"no\", \n",
    "                ),\n",
    "            )\n",
    "            \n",
    "            trainer_q_hpo.train()\n",
    "            current_eval_loss = float('inf')\n",
    "            for log_entry in reversed(trainer_q_hpo.state.log_history):\n",
    "                if 'eval_loss' in log_entry:\n",
    "                    current_eval_loss = log_entry['eval_loss']\n",
    "                    break\n",
    "            \n",
    "            print(f\"HPO QLoRa r={r_val}, alpha={alpha_val} -> eval_loss: {current_eval_loss}\")\n",
    "            wandb.log({\"hpo_eval_loss\": current_eval_loss, \"r\": r_val, \"alpha\": alpha_val})\n",
    "\n",
    "            if current_eval_loss < best_params_qlora[\"loss\"]:\n",
    "                best_params_qlora[\"loss\"] = current_eval_loss\n",
    "                best_params_qlora[\"r\"] = r_val\n",
    "                best_params_qlora[\"alpha\"] = alpha_val\n",
    "            \n",
    "            wandb.finish()\n",
    "            # Очищаем только peft_q_model_hpo и trainer, базовая модель и токенизатор остаются для следующей итерации HPO\n",
    "            clear_gpu_memory(peft_q_model_hpo, trainer_q_hpo) \n",
    "\n",
    "    # Очищаем базовую модель и токенизатор, использованные для HPO\n",
    "    clear_gpu_memory(base_q_model_for_hpo) # tokenizer_qlora понадобится для финального обучения\n",
    "\n",
    "    print(f\"\\nЛучшие параметры для QLoRa: r={best_params_qlora['r']}, alpha={best_params_qlora['alpha']} (loss: {best_params_qlora['loss']:.4f})\")\n",
    "\n",
    "    # Финальное обучение QLoRa с лучшими параметрами\n",
    "    model_name_final_qlora = f\"QLoRa r={best_params_qlora['r']},a={best_params_qlora['alpha']} ({BASE_MODEL_NAME_UNSLOTH_QUANTIZED})\"\n",
    "    run_name_wandb_final_qlora = \"exp3_qlora_final_training\"\n",
    "    wandb.init(entity='galkin-vova42', project=WANDB_PROJECT_NAME, name=run_name_wandb_final_qlora, job_type=\"train_qlora_final\", \n",
    "               config={\"experiment_type\": \"qlora_final\", \n",
    "                       \"r\": best_params_qlora['r'], \n",
    "                       \"alpha\": best_params_qlora['alpha'], \n",
    "                       \"base_model\": BASE_MODEL_NAME_UNSLOTH_QUANTIZED,\n",
    "                       \"best_hpo_loss\": best_params_qlora['loss']},\n",
    "               reinit=True) # Новый run для финального обучения\n",
    "\n",
    "    # Загружаем базовую модель заново для чистоты финального обучения\n",
    "    final_base_q_model, _ = FastLanguageModel.from_pretrained(\n",
    "        model_name=BASE_MODEL_NAME_UNSLOTH_QUANTIZED, max_seq_length=MAX_SEQ_LENGTH, load_in_4bit=True, token=HF_ACCESS_TOKEN\n",
    "    )\n",
    "\n",
    "    final_peft_q_model = FastLanguageModel.get_peft_model(\n",
    "        final_base_q_model,\n",
    "        r=best_params_qlora['r'],\n",
    "        target_modules=TARGET_MODULES,\n",
    "        lora_alpha=best_params_qlora['alpha'],\n",
    "        lora_dropout=0,\n",
    "        bias=\"none\",\n",
    "        use_gradient_checkpointing=\"unsloth\",\n",
    "        random_state=42,\n",
    "    )\n",
    "\n",
    "    trainer_q_final = SFTTrainer(\n",
    "        model=final_peft_q_model,\n",
    "        tokenizer=tokenizer_qlora, # Используем тот же токенизатор\n",
    "        train_dataset=dataset_train_q,\n",
    "        eval_dataset=dataset_test_q,\n",
    "        args=SFTConfig(\n",
    "            dataset_text_field=\"text\",\n",
    "            output_dir=OUTPUT_DIR_QLORA, \n",
    "            per_device_train_batch_size=2, # Как в вашем коде\n",
    "            per_device_eval_batch_size=2,  # Добавим для консистентности\n",
    "            gradient_accumulation_steps=4,\n",
    "            warmup_steps=10, \n",
    "            max_steps=100,  # Увеличьте для полноценного обучения (например, 200-500)\n",
    "            learning_rate=2e-4,\n",
    "            logging_steps=1,\n",
    "            optim=\"adamw_8bit\",\n",
    "            weight_decay=0.01,\n",
    "            lr_scheduler_type=\"linear\",\n",
    "            seed=42,\n",
    "            report_to=\"wandb\",\n",
    "            do_eval=True,\n",
    "            eval_strategy=\"steps\",\n",
    "            eval_steps=20, \n",
    "            save_strategy=\"steps\", \n",
    "            save_steps=20,\n",
    "            save_total_limit=2,\n",
    "            load_best_model_at_end=True, \n",
    "            metric_for_best_model=\"eval_loss\",\n",
    "            greater_is_better=False,\n",
    "            fp16=not torch.cuda.is_bf16_supported(), # Для QLoRA часто bf16=True если доступно\n",
    "            bf16=torch.cuda.is_bf16_supported(),\n",
    "        ),\n",
    "    )\n",
    "    \n",
    "    start_gpu_memory_qlora = round(torch.cuda.max_memory_reserved() / 1024**3, 3) if torch.cuda.is_available() else 0\n",
    "    trainer_stats_qlora = trainer_q_final.train()\n",
    "    \n",
    "    peak_vram_train_qlora_gb = 0\n",
    "    if torch.cuda.is_available():\n",
    "        used_memory_qlora_train = round(torch.cuda.max_memory_reserved() / 1024**3, 3)\n",
    "        peak_vram_train_qlora_gb = round(used_memory_qlora_train - start_gpu_memory_qlora, 3)\n",
    "        print(f\"Пиковая VRAM для обучения (QLoRa final): {peak_vram_train_qlora_gb:.3f} GB\")\n",
    "        wandb.log({\"peak_vram_train_gb\": peak_vram_train_qlora_gb})\n",
    "\n",
    "    best_qlora_model_path = os.path.join(OUTPUT_DIR_QLORA, \"best_qlora_adapters\")\n",
    "    final_peft_q_model.save_pretrained(best_qlora_model_path) \n",
    "    tokenizer_qlora.save_pretrained(best_qlora_model_path)\n",
    "    print(f\"Лучшие QLoRa адаптеры сохранены в: {best_qlora_model_path}\")\n",
    "    if os.path.exists(best_qlora_model_path):\n",
    "        wandb.save(os.path.join(best_qlora_model_path, \"*\"))\n",
    "\n",
    "\n",
    "    # --- Начало блока пакетной оценки для финальной QLoRa модели ---\n",
    "    print(f\"Оценка лучшей QLoRa модели: {model_name_final_qlora} (пакетная обработка)...\")\n",
    "    eval_batch_size_qlora = 8 # Как в вашем обновленном Exp1\n",
    "\n",
    "    predictions_q_final = []\n",
    "    references_q_final = []\n",
    "    latencies_q_final = []\n",
    "    num_samples_for_eval = min(100, len(dataset_test_raw))\n",
    "\n",
    "    eval_data_q_final = []\n",
    "    for i in range(num_samples_for_eval):\n",
    "        example = dataset_test_raw[i] \n",
    "        eval_data_q_final.append({\n",
    "            \"user_content\": example[\"text_with_errors\"],\n",
    "            \"reference_text\": example[\"corrected_text\"]\n",
    "        })\n",
    "\n",
    "    if torch.cuda.is_available():\n",
    "        torch.cuda.reset_peak_memory_stats()\n",
    "        _ = torch.cuda.max_memory_allocated()\n",
    "\n",
    "    device = \"cuda\" if torch.cuda.is_available() else \"cpu\"\n",
    "    # final_peft_q_model уже лучшая модель и находится на device\n",
    "\n",
    "    # Убедимся, что у токенизатора есть pad_token\n",
    "    if tokenizer_qlora.pad_token is None:\n",
    "        tokenizer_qlora.pad_token = tokenizer_qlora.eos_token\n",
    "        # Модель уже должна быть правильно сконфигурирована Unsloth при загрузке с load_in_4bit\n",
    "        # if hasattr(final_peft_q_model.config, 'pad_token_id') and final_peft_q_model.config.pad_token_id is None:\n",
    "        # final_peft_q_model.config.pad_token_id = tokenizer_qlora.eos_token_id\n",
    "    \n",
    "    for batch_data in tqdm(create_batches(eval_data_q_final, eval_batch_size_qlora), desc=f\"Оценка {model_name_final_qlora}\"):\n",
    "        batch_prompts_text = []\n",
    "        current_references = []\n",
    "\n",
    "        for item in batch_data:\n",
    "            messages = [\n",
    "                {\"role\": \"system\", \"content\": SYSTEM_PROMPT},\n",
    "                {\"role\": \"user\", \"content\": item[\"user_content\"]}\n",
    "            ]\n",
    "            prompt_text = tokenizer_qlora.apply_chat_template(messages, tokenize=False, add_generation_prompt=True)\n",
    "            batch_prompts_text.append(prompt_text)\n",
    "            current_references.append(item[\"reference_text\"].strip())\n",
    "        \n",
    "        current_max_len_qlora = MAX_SEQ_LENGTH\n",
    "        if hasattr(tokenizer_qlora, 'model_max_length') and tokenizer_qlora.model_max_length:\n",
    "            current_max_len_qlora = min(tokenizer_qlora.model_max_length, MAX_SEQ_LENGTH)\n",
    "\n",
    "        inputs = tokenizer_qlora(\n",
    "            batch_prompts_text, \n",
    "            return_tensors=\"pt\", \n",
    "            padding=True,\n",
    "            truncation=True,\n",
    "            max_length=current_max_len_qlora\n",
    "        ).to(device)\n",
    "\n",
    "        start_time = time.time()\n",
    "        with torch.no_grad():\n",
    "            outputs = final_peft_q_model.generate(\n",
    "                **inputs, \n",
    "                max_new_tokens=min(512, MAX_SEQ_LENGTH),\n",
    "                temperature=0.01, # Как в вашем Exp1\n",
    "                do_sample=False,\n",
    "                pad_token_id=tokenizer_qlora.pad_token_id\n",
    "            )\n",
    "        end_time = time.time()\n",
    "        latencies_q_final.append(end_time - start_time)\n",
    "        \n",
    "        input_ids_lengths = inputs.attention_mask.sum(dim=1).tolist()\n",
    "\n",
    "        batch_output_texts = []\n",
    "        for i in range(outputs.shape[0]):\n",
    "            generated_tokens_only = outputs[i, input_ids_lengths[i]:]\n",
    "            output_text = tokenizer_qlora.decode(generated_tokens_only, skip_special_tokens=True)\n",
    "            batch_output_texts.append(output_text.strip())\n",
    "            \n",
    "        predictions_q_final.extend(batch_output_texts)\n",
    "        references_q_final.extend(current_references)\n",
    "    \n",
    "    peak_inference_vram_qlora_gb = 0\n",
    "    if torch.cuda.is_available():\n",
    "        peak_inference_vram_qlora_bytes = torch.cuda.max_memory_allocated() \n",
    "        peak_inference_vram_qlora_gb = peak_inference_vram_qlora_bytes / (1024**3)\n",
    "\n",
    "    bleu_score_q = calculate_bleu(predictions_q_final, references_q_final)\n",
    "    cer_score_q = calculate_cer(predictions_q_final, references_q_final)\n",
    "    \n",
    "    total_inference_time_q = sum(latencies_q_final)\n",
    "    avg_latency_per_sample_q = total_inference_time_q / num_samples_for_eval if num_samples_for_eval > 0 else -1\n",
    "\n",
    "    print(f\"BLEU ({model_name_final_qlora}): {bleu_score_q:.4f}\")\n",
    "    print(f\"CER ({model_name_final_qlora}): {cer_score_q:.4f}\")\n",
    "    print(f\"Avg Inference Latency per sample ({model_name_final_qlora}): {avg_latency_per_sample_q:.4f} s\")\n",
    "    print(f\"Peak VRAM during batched inference ({model_name_final_qlora}): {peak_inference_vram_qlora_gb:.3f} GB\")\n",
    "    # --- Конец блока пакетной оценки ---\n",
    "\n",
    "    trainable_params_q, total_params_q = get_model_trainable_parameters(final_peft_q_model)\n",
    "    \n",
    "    results_q = {\n",
    "        \"experiment_group\": \"QLoRa\",\n",
    "        \"model_name\": model_name_final_qlora,\n",
    "        \"val_loss\": trainer_q_final.state.best_model_checkpoint_loss if hasattr(trainer_q_final.state, 'best_model_checkpoint_loss') and trainer_q_final.state.best_model_checkpoint_loss is not None else -1,\n",
    "        \"bleu\": bleu_score_q,\n",
    "        \"cer\": cer_score_q,\n",
    "        \"trainable_params\": trainable_params_q,\n",
    "        \"total_params\": total_params_q, \n",
    "        \"vram_train_peak_gb\": peak_vram_train_qlora_gb,\n",
    "        \"vram_inference_peak_gb\": peak_inference_vram_qlora_gb,\n",
    "        \"avg_inference_latency_s\": avg_latency_per_sample_q,\n",
    "        \"model_path\": best_qlora_model_path,\n",
    "        \"best_hpo_r\": best_params_qlora['r'],\n",
    "        \"best_hpo_alpha\": best_params_qlora['alpha'],\n",
    "    }\n",
    "    results_accumulator_list.append(results_q)\n",
    "    wandb.log({\n",
    "        \"eval_bleu\": bleu_score_q, \"eval_cer\": cer_score_q, \"avg_inference_latency_per_sample\": avg_latency_per_sample_q,\n",
    "        \"trainable_params\": trainable_params_q, \"total_params_base_quant\": total_params_q, \n",
    "        \"peak_inference_vram_gb\": peak_inference_vram_qlora_gb,\n",
    "        \"best_val_loss_final_train\": results_q[\"val_loss\"]\n",
    "    })\n",
    "    \n",
    "    wandb.finish()\n",
    "    clear_gpu_memory(final_peft_q_model, trainer_q_final, final_base_q_model, tokenizer_qlora)"
   ]
  },
  {
   "cell_type": "code",
   "execution_count": 7,
   "id": "cc402ae5-74a3-4204-8e76-a4cb2126649e",
   "metadata": {
    "tags": []
   },
   "outputs": [
    {
     "name": "stdout",
     "output_type": "stream",
     "text": [
      "\n",
      "--- Запуск Эксперимента 3: QLoRa ---\n",
      "==((====))==  Unsloth 2025.5.6: Fast Qwen3 patching. Transformers: 4.51.3.\n",
      "   \\\\   /|    NVIDIA GeForce RTX 4090. Num GPUs = 1. Max memory: 23.526 GB. Platform: Linux.\n",
      "O^O/ \\_/ \\    Torch: 2.7.0+cu126. CUDA: 8.9. CUDA Toolkit: 12.6. Triton: 3.3.0\n",
      "\\        /    Bfloat16 = TRUE. FA [Xformers = 0.0.30. FA2 = False]\n",
      " \"-____-\"     Free license: http://github.com/unslothai/unsloth\n",
      "Unsloth: Fast downloading is enabled - ignore downloading bars which are red colored!\n"
     ]
    },
    {
     "name": "stderr",
     "output_type": "stream",
     "text": [
      "\u001b[34m\u001b[1mwandb\u001b[0m: \u001b[33mWARNING\u001b[0m Using a boolean value for 'reinit' is deprecated. Use 'return_previous' or 'finish_previous' instead.\n"
     ]
    },
    {
     "name": "stdout",
     "output_type": "stream",
     "text": [
      "Подбор гиперпараметров r и alpha для QLoRa...\n",
      "\n",
      "Тестирование QLoRa с r=16, alpha=32\n"
     ]
    },
    {
     "data": {
      "text/html": [
       "Tracking run with wandb version 0.19.11"
      ],
      "text/plain": [
       "<IPython.core.display.HTML object>"
      ]
     },
     "metadata": {},
     "output_type": "display_data"
    },
    {
     "data": {
      "text/html": [
       "Run data is saved locally in <code>/text-correction/all_exps/wandb/run-20250518_224833-mp9vs3g2</code>"
      ],
      "text/plain": [
       "<IPython.core.display.HTML object>"
      ]
     },
     "metadata": {},
     "output_type": "display_data"
    },
    {
     "data": {
      "text/html": [
       "Syncing run <strong><a href='https://wandb.ai/galkin-vova42/quantization_experiments/runs/mp9vs3g2' target=\"_blank\">qlora_hpo_r16_a32</a></strong> to <a href='https://wandb.ai/galkin-vova42/quantization_experiments' target=\"_blank\">Weights & Biases</a> (<a href='https://wandb.me/developer-guide' target=\"_blank\">docs</a>)<br>"
      ],
      "text/plain": [
       "<IPython.core.display.HTML object>"
      ]
     },
     "metadata": {},
     "output_type": "display_data"
    },
    {
     "data": {
      "text/html": [
       " View project at <a href='https://wandb.ai/galkin-vova42/quantization_experiments' target=\"_blank\">https://wandb.ai/galkin-vova42/quantization_experiments</a>"
      ],
      "text/plain": [
       "<IPython.core.display.HTML object>"
      ]
     },
     "metadata": {},
     "output_type": "display_data"
    },
    {
     "data": {
      "text/html": [
       " View run at <a href='https://wandb.ai/galkin-vova42/quantization_experiments/runs/mp9vs3g2' target=\"_blank\">https://wandb.ai/galkin-vova42/quantization_experiments/runs/mp9vs3g2</a>"
      ],
      "text/plain": [
       "<IPython.core.display.HTML object>"
      ]
     },
     "metadata": {},
     "output_type": "display_data"
    },
    {
     "name": "stderr",
     "output_type": "stream",
     "text": [
      "Unsloth 2025.5.6 patched 28 layers with 28 QKV layers, 28 O layers and 28 MLP layers.\n",
      "Unsloth: Tokenizing [\"text\"] (num_proc=2): 100%|██████████| 555/555 [00:01<00:00, 340.13 examples/s]\n",
      "Unsloth: Tokenizing [\"text\"] (num_proc=2): 100%|██████████| 139/139 [00:01<00:00, 135.60 examples/s]\n",
      "==((====))==  Unsloth - 2x faster free finetuning | Num GPUs used = 1\n",
      "   \\\\   /|    Num examples = 555 | Num Epochs = 1 | Total steps = 30\n",
      "O^O/ \\_/ \\    Batch size per device = 2 | Gradient accumulation steps = 4\n",
      "\\        /    Data Parallel GPUs = 1 | Total batch size (2 x 4 x 1) = 8\n",
      " \"-____-\"     Trainable parameters = 10,092,544/6,000,000,000 (0.17% trained)\n",
      "\u001b[34m\u001b[1mwandb\u001b[0m: \u001b[33mWARNING\u001b[0m The `run_name` is currently set to the same value as `TrainingArguments.output_dir`. If this was not intended, please specify a different run name by setting the `TrainingArguments.run_name` parameter.\n"
     ]
    },
    {
     "name": "stdout",
     "output_type": "stream",
     "text": [
      "Unsloth: Will smartly offload gradients to save VRAM!\n"
     ]
    },
    {
     "data": {
      "text/html": [
       "\n",
       "    <div>\n",
       "      \n",
       "      <progress value='30' max='30' style='width:300px; height:20px; vertical-align: middle;'></progress>\n",
       "      [30/30 00:52, Epoch 0/1]\n",
       "    </div>\n",
       "    <table border=\"1\" class=\"dataframe\">\n",
       "  <thead>\n",
       " <tr style=\"text-align: left;\">\n",
       "      <th>Step</th>\n",
       "      <th>Training Loss</th>\n",
       "      <th>Validation Loss</th>\n",
       "    </tr>\n",
       "  </thead>\n",
       "  <tbody>\n",
       "    <tr>\n",
       "      <td>10</td>\n",
       "      <td>1.410700</td>\n",
       "      <td>1.356854</td>\n",
       "    </tr>\n",
       "    <tr>\n",
       "      <td>20</td>\n",
       "      <td>1.290000</td>\n",
       "      <td>1.240758</td>\n",
       "    </tr>\n",
       "    <tr>\n",
       "      <td>30</td>\n",
       "      <td>1.305500</td>\n",
       "      <td>1.226838</td>\n",
       "    </tr>\n",
       "  </tbody>\n",
       "</table><p>"
      ],
      "text/plain": [
       "<IPython.core.display.HTML object>"
      ]
     },
     "metadata": {},
     "output_type": "display_data"
    },
    {
     "name": "stderr",
     "output_type": "stream",
     "text": [
      "Unsloth: Not an error, but Qwen3ForCausalLM does not accept `num_items_in_batch`.\n",
      "Using gradient accumulation will be very slightly less accurate.\n",
      "Read more on gradient accumulation issues here: https://unsloth.ai/blog/gradient\n"
     ]
    },
    {
     "name": "stdout",
     "output_type": "stream",
     "text": [
      "HPO QLoRa r=16, alpha=32 -> eval_loss: 1.2268377542495728\n"
     ]
    },
    {
     "data": {
      "text/html": [],
      "text/plain": [
       "<IPython.core.display.HTML object>"
      ]
     },
     "metadata": {},
     "output_type": "display_data"
    },
    {
     "data": {
      "text/html": [
       "<br>    <style><br>        .wandb-row {<br>            display: flex;<br>            flex-direction: row;<br>            flex-wrap: wrap;<br>            justify-content: flex-start;<br>            width: 100%;<br>        }<br>        .wandb-col {<br>            display: flex;<br>            flex-direction: column;<br>            flex-basis: 100%;<br>            flex: 1;<br>            padding: 10px;<br>        }<br>    </style><br><div class=\"wandb-row\"><div class=\"wandb-col\"><h3>Run history:</h3><br/><table class=\"wandb\"><tr><td>alpha</td><td>▁</td></tr><tr><td>eval/loss</td><td>█▂▁</td></tr><tr><td>eval/runtime</td><td>█▁▁</td></tr><tr><td>eval/samples_per_second</td><td>▁██</td></tr><tr><td>eval/steps_per_second</td><td>▁██</td></tr><tr><td>hpo_eval_loss</td><td>▁</td></tr><tr><td>r</td><td>▁</td></tr><tr><td>train/epoch</td><td>▁▂▂▄▅▅▇███</td></tr><tr><td>train/global_step</td><td>▁▂▂▄▅▅▇████</td></tr><tr><td>train/grad_norm</td><td>█▅▃▂▁▁</td></tr><tr><td>train/learning_rate</td><td>██▆▅▃▁</td></tr><tr><td>train/loss</td><td>█▄▃▂▁▂</td></tr></table><br/></div><div class=\"wandb-col\"><h3>Run summary:</h3><br/><table class=\"wandb\"><tr><td>alpha</td><td>32</td></tr><tr><td>eval/loss</td><td>1.22684</td></tr><tr><td>eval/runtime</td><td>4.3905</td></tr><tr><td>eval/samples_per_second</td><td>31.659</td></tr><tr><td>eval/steps_per_second</td><td>7.972</td></tr><tr><td>hpo_eval_loss</td><td>1.22684</td></tr><tr><td>r</td><td>16</td></tr><tr><td>total_flos</td><td>735778897920000.0</td></tr><tr><td>train/epoch</td><td>0.43165</td></tr><tr><td>train/global_step</td><td>30</td></tr><tr><td>train/grad_norm</td><td>0.46103</td></tr><tr><td>train/learning_rate</td><td>1e-05</td></tr><tr><td>train/loss</td><td>1.3055</td></tr><tr><td>train_loss</td><td>1.3785</td></tr><tr><td>train_runtime</td><td>55.9846</td></tr><tr><td>train_samples_per_second</td><td>4.287</td></tr><tr><td>train_steps_per_second</td><td>0.536</td></tr></table><br/></div></div>"
      ],
      "text/plain": [
       "<IPython.core.display.HTML object>"
      ]
     },
     "metadata": {},
     "output_type": "display_data"
    },
    {
     "data": {
      "text/html": [
       " View run <strong style=\"color:#cdcd00\">qlora_hpo_r16_a32</strong> at: <a href='https://wandb.ai/galkin-vova42/quantization_experiments/runs/mp9vs3g2' target=\"_blank\">https://wandb.ai/galkin-vova42/quantization_experiments/runs/mp9vs3g2</a><br> View project at: <a href='https://wandb.ai/galkin-vova42/quantization_experiments' target=\"_blank\">https://wandb.ai/galkin-vova42/quantization_experiments</a><br>Synced 5 W&B file(s), 0 media file(s), 0 artifact file(s) and 0 other file(s)"
      ],
      "text/plain": [
       "<IPython.core.display.HTML object>"
      ]
     },
     "metadata": {},
     "output_type": "display_data"
    },
    {
     "data": {
      "text/html": [
       "Find logs at: <code>./wandb/run-20250518_224833-mp9vs3g2/logs</code>"
      ],
      "text/plain": [
       "<IPython.core.display.HTML object>"
      ]
     },
     "metadata": {},
     "output_type": "display_data"
    },
    {
     "name": "stdout",
     "output_type": "stream",
     "text": [
      "GPU memory cleared.\n",
      "\n",
      "Тестирование QLoRa с r=32, alpha=64\n"
     ]
    },
    {
     "data": {
      "text/html": [
       "Tracking run with wandb version 0.19.11"
      ],
      "text/plain": [
       "<IPython.core.display.HTML object>"
      ]
     },
     "metadata": {},
     "output_type": "display_data"
    },
    {
     "data": {
      "text/html": [
       "Run data is saved locally in <code>/text-correction/all_exps/wandb/run-20250518_224943-8mqgczaa</code>"
      ],
      "text/plain": [
       "<IPython.core.display.HTML object>"
      ]
     },
     "metadata": {},
     "output_type": "display_data"
    },
    {
     "data": {
      "text/html": [
       "Syncing run <strong><a href='https://wandb.ai/galkin-vova42/quantization_experiments/runs/8mqgczaa' target=\"_blank\">qlora_hpo_r32_a64</a></strong> to <a href='https://wandb.ai/galkin-vova42/quantization_experiments' target=\"_blank\">Weights & Biases</a> (<a href='https://wandb.me/developer-guide' target=\"_blank\">docs</a>)<br>"
      ],
      "text/plain": [
       "<IPython.core.display.HTML object>"
      ]
     },
     "metadata": {},
     "output_type": "display_data"
    },
    {
     "data": {
      "text/html": [
       " View project at <a href='https://wandb.ai/galkin-vova42/quantization_experiments' target=\"_blank\">https://wandb.ai/galkin-vova42/quantization_experiments</a>"
      ],
      "text/plain": [
       "<IPython.core.display.HTML object>"
      ]
     },
     "metadata": {},
     "output_type": "display_data"
    },
    {
     "data": {
      "text/html": [
       " View run at <a href='https://wandb.ai/galkin-vova42/quantization_experiments/runs/8mqgczaa' target=\"_blank\">https://wandb.ai/galkin-vova42/quantization_experiments/runs/8mqgczaa</a>"
      ],
      "text/plain": [
       "<IPython.core.display.HTML object>"
      ]
     },
     "metadata": {},
     "output_type": "display_data"
    },
    {
     "name": "stdout",
     "output_type": "stream",
     "text": [
      "GPU memory cleared.\n"
     ]
    },
    {
     "name": "stderr",
     "output_type": "stream",
     "text": [
      "/opt/conda/lib/python3.10/site-packages/peft/mapping_func.py:73: UserWarning: You are trying to modify a model with PEFT for a second time. If you want to reload the model with a different config, make sure to call `.unload()` before.\n",
      "  warnings.warn(\n",
      "/opt/conda/lib/python3.10/site-packages/peft/tuners/tuners_utils.py:167: UserWarning: Already found a `peft_config` attribute in the model. This will lead to having multiple adapters in the model. Make sure to know what you are doing!\n",
      "  warnings.warn(\n",
      "Unsloth: Tokenizing [\"text\"] (num_proc=2): 100%|██████████| 555/555 [00:01<00:00, 339.73 examples/s]\n",
      "Unsloth: Tokenizing [\"text\"] (num_proc=2): 100%|██████████| 139/139 [00:01<00:00, 126.89 examples/s]\n",
      "==((====))==  Unsloth - 2x faster free finetuning | Num GPUs used = 1\n",
      "   \\\\   /|    Num examples = 555 | Num Epochs = 1 | Total steps = 30\n",
      "O^O/ \\_/ \\    Batch size per device = 2 | Gradient accumulation steps = 4\n",
      "\\        /    Data Parallel GPUs = 1 | Total batch size (2 x 4 x 1) = 8\n",
      " \"-____-\"     Trainable parameters = 20,185,088/6,000,000,000 (0.34% trained)\n"
     ]
    },
    {
     "data": {
      "text/html": [
       "\n",
       "    <div>\n",
       "      \n",
       "      <progress value='30' max='30' style='width:300px; height:20px; vertical-align: middle;'></progress>\n",
       "      [30/30 00:52, Epoch 0/1]\n",
       "    </div>\n",
       "    <table border=\"1\" class=\"dataframe\">\n",
       "  <thead>\n",
       " <tr style=\"text-align: left;\">\n",
       "      <th>Step</th>\n",
       "      <th>Training Loss</th>\n",
       "      <th>Validation Loss</th>\n",
       "    </tr>\n",
       "  </thead>\n",
       "  <tbody>\n",
       "    <tr>\n",
       "      <td>10</td>\n",
       "      <td>1.327800</td>\n",
       "      <td>1.277131</td>\n",
       "    </tr>\n",
       "    <tr>\n",
       "      <td>20</td>\n",
       "      <td>1.260300</td>\n",
       "      <td>1.217028</td>\n",
       "    </tr>\n",
       "    <tr>\n",
       "      <td>30</td>\n",
       "      <td>1.279100</td>\n",
       "      <td>1.202683</td>\n",
       "    </tr>\n",
       "  </tbody>\n",
       "</table><p>"
      ],
      "text/plain": [
       "<IPython.core.display.HTML object>"
      ]
     },
     "metadata": {},
     "output_type": "display_data"
    },
    {
     "name": "stdout",
     "output_type": "stream",
     "text": [
      "HPO QLoRa r=32, alpha=64 -> eval_loss: 1.202683448791504\n"
     ]
    },
    {
     "data": {
      "text/html": [],
      "text/plain": [
       "<IPython.core.display.HTML object>"
      ]
     },
     "metadata": {},
     "output_type": "display_data"
    },
    {
     "data": {
      "text/html": [
       "<br>    <style><br>        .wandb-row {<br>            display: flex;<br>            flex-direction: row;<br>            flex-wrap: wrap;<br>            justify-content: flex-start;<br>            width: 100%;<br>        }<br>        .wandb-col {<br>            display: flex;<br>            flex-direction: column;<br>            flex-basis: 100%;<br>            flex: 1;<br>            padding: 10px;<br>        }<br>    </style><br><div class=\"wandb-row\"><div class=\"wandb-col\"><h3>Run history:</h3><br/><table class=\"wandb\"><tr><td>alpha</td><td>▁</td></tr><tr><td>eval/loss</td><td>█▂▁</td></tr><tr><td>eval/runtime</td><td>█▆▁</td></tr><tr><td>eval/samples_per_second</td><td>▁▃█</td></tr><tr><td>eval/steps_per_second</td><td>▁▃█</td></tr><tr><td>hpo_eval_loss</td><td>▁</td></tr><tr><td>r</td><td>▁</td></tr><tr><td>train/epoch</td><td>▁▂▂▄▅▅▇███</td></tr><tr><td>train/global_step</td><td>▁▂▂▄▅▅▇████</td></tr><tr><td>train/grad_norm</td><td>█▅▄▂▂▁</td></tr><tr><td>train/learning_rate</td><td>██▆▅▃▁</td></tr><tr><td>train/loss</td><td>█▃▂▂▁▂</td></tr></table><br/></div><div class=\"wandb-col\"><h3>Run summary:</h3><br/><table class=\"wandb\"><tr><td>alpha</td><td>64</td></tr><tr><td>eval/loss</td><td>1.20268</td></tr><tr><td>eval/runtime</td><td>4.3897</td></tr><tr><td>eval/samples_per_second</td><td>31.665</td></tr><tr><td>eval/steps_per_second</td><td>7.973</td></tr><tr><td>hpo_eval_loss</td><td>1.20268</td></tr><tr><td>r</td><td>32</td></tr><tr><td>total_flos</td><td>752260345233408.0</td></tr><tr><td>train/epoch</td><td>0.43165</td></tr><tr><td>train/global_step</td><td>30</td></tr><tr><td>train/grad_norm</td><td>0.53962</td></tr><tr><td>train/learning_rate</td><td>1e-05</td></tr><tr><td>train/loss</td><td>1.2791</td></tr><tr><td>train_loss</td><td>1.33371</td></tr><tr><td>train_runtime</td><td>53.4955</td></tr><tr><td>train_samples_per_second</td><td>4.486</td></tr><tr><td>train_steps_per_second</td><td>0.561</td></tr></table><br/></div></div>"
      ],
      "text/plain": [
       "<IPython.core.display.HTML object>"
      ]
     },
     "metadata": {},
     "output_type": "display_data"
    },
    {
     "data": {
      "text/html": [
       " View run <strong style=\"color:#cdcd00\">qlora_hpo_r32_a64</strong> at: <a href='https://wandb.ai/galkin-vova42/quantization_experiments/runs/8mqgczaa' target=\"_blank\">https://wandb.ai/galkin-vova42/quantization_experiments/runs/8mqgczaa</a><br> View project at: <a href='https://wandb.ai/galkin-vova42/quantization_experiments' target=\"_blank\">https://wandb.ai/galkin-vova42/quantization_experiments</a><br>Synced 5 W&B file(s), 0 media file(s), 0 artifact file(s) and 0 other file(s)"
      ],
      "text/plain": [
       "<IPython.core.display.HTML object>"
      ]
     },
     "metadata": {},
     "output_type": "display_data"
    },
    {
     "data": {
      "text/html": [
       "Find logs at: <code>./wandb/run-20250518_224943-8mqgczaa/logs</code>"
      ],
      "text/plain": [
       "<IPython.core.display.HTML object>"
      ]
     },
     "metadata": {},
     "output_type": "display_data"
    },
    {
     "name": "stdout",
     "output_type": "stream",
     "text": [
      "GPU memory cleared.\n",
      "Could not move an object to CPU: `.to` is not supported for `8-bit` bitsandbytes models. Please use the model as it is, since the model has already been set to the correct devices and casted to the correct `dtype`.\n",
      "GPU memory cleared.\n",
      "\n",
      "Лучшие параметры для QLoRa: r=32, alpha=64 (loss: 1.2027)\n"
     ]
    },
    {
     "data": {
      "text/html": [
       "Tracking run with wandb version 0.19.11"
      ],
      "text/plain": [
       "<IPython.core.display.HTML object>"
      ]
     },
     "metadata": {},
     "output_type": "display_data"
    },
    {
     "data": {
      "text/html": [
       "Run data is saved locally in <code>/text-correction/all_exps/wandb/run-20250518_225051-6xp8bmnb</code>"
      ],
      "text/plain": [
       "<IPython.core.display.HTML object>"
      ]
     },
     "metadata": {},
     "output_type": "display_data"
    },
    {
     "data": {
      "text/html": [
       "Syncing run <strong><a href='https://wandb.ai/galkin-vova42/quantization_experiments/runs/6xp8bmnb' target=\"_blank\">exp3_qlora_final_training</a></strong> to <a href='https://wandb.ai/galkin-vova42/quantization_experiments' target=\"_blank\">Weights & Biases</a> (<a href='https://wandb.me/developer-guide' target=\"_blank\">docs</a>)<br>"
      ],
      "text/plain": [
       "<IPython.core.display.HTML object>"
      ]
     },
     "metadata": {},
     "output_type": "display_data"
    },
    {
     "data": {
      "text/html": [
       " View project at <a href='https://wandb.ai/galkin-vova42/quantization_experiments' target=\"_blank\">https://wandb.ai/galkin-vova42/quantization_experiments</a>"
      ],
      "text/plain": [
       "<IPython.core.display.HTML object>"
      ]
     },
     "metadata": {},
     "output_type": "display_data"
    },
    {
     "data": {
      "text/html": [
       " View run at <a href='https://wandb.ai/galkin-vova42/quantization_experiments/runs/6xp8bmnb' target=\"_blank\">https://wandb.ai/galkin-vova42/quantization_experiments/runs/6xp8bmnb</a>"
      ],
      "text/plain": [
       "<IPython.core.display.HTML object>"
      ]
     },
     "metadata": {},
     "output_type": "display_data"
    },
    {
     "name": "stdout",
     "output_type": "stream",
     "text": [
      "==((====))==  Unsloth 2025.5.6: Fast Qwen3 patching. Transformers: 4.51.3.\n",
      "   \\\\   /|    NVIDIA GeForce RTX 4090. Num GPUs = 1. Max memory: 23.526 GB. Platform: Linux.\n",
      "O^O/ \\_/ \\    Torch: 2.7.0+cu126. CUDA: 8.9. CUDA Toolkit: 12.6. Triton: 3.3.0\n",
      "\\        /    Bfloat16 = TRUE. FA [Xformers = 0.0.30. FA2 = False]\n",
      " \"-____-\"     Free license: http://github.com/unslothai/unsloth\n",
      "Unsloth: Fast downloading is enabled - ignore downloading bars which are red colored!\n"
     ]
    },
    {
     "name": "stderr",
     "output_type": "stream",
     "text": [
      "Unsloth: Tokenizing [\"text\"] (num_proc=2): 100%|██████████| 555/555 [00:01<00:00, 321.66 examples/s]\n",
      "Unsloth: Tokenizing [\"text\"] (num_proc=2): 100%|██████████| 139/139 [00:01<00:00, 124.19 examples/s]\n",
      "==((====))==  Unsloth - 2x faster free finetuning | Num GPUs used = 1\n",
      "   \\\\   /|    Num examples = 555 | Num Epochs = 2 | Total steps = 100\n",
      "O^O/ \\_/ \\    Batch size per device = 2 | Gradient accumulation steps = 4\n",
      "\\        /    Data Parallel GPUs = 1 | Total batch size (2 x 4 x 1) = 8\n",
      " \"-____-\"     Trainable parameters = 20,185,088/6,000,000,000 (0.34% trained)\n"
     ]
    },
    {
     "data": {
      "text/html": [
       "\n",
       "    <div>\n",
       "      \n",
       "      <progress value='100' max='100' style='width:300px; height:20px; vertical-align: middle;'></progress>\n",
       "      [100/100 02:52, Epoch 1/2]\n",
       "    </div>\n",
       "    <table border=\"1\" class=\"dataframe\">\n",
       "  <thead>\n",
       " <tr style=\"text-align: left;\">\n",
       "      <th>Step</th>\n",
       "      <th>Training Loss</th>\n",
       "      <th>Validation Loss</th>\n",
       "    </tr>\n",
       "  </thead>\n",
       "  <tbody>\n",
       "    <tr>\n",
       "      <td>20</td>\n",
       "      <td>1.231800</td>\n",
       "      <td>1.210760</td>\n",
       "    </tr>\n",
       "    <tr>\n",
       "      <td>40</td>\n",
       "      <td>1.210600</td>\n",
       "      <td>1.160366</td>\n",
       "    </tr>\n",
       "    <tr>\n",
       "      <td>60</td>\n",
       "      <td>1.055900</td>\n",
       "      <td>1.140321</td>\n",
       "    </tr>\n",
       "    <tr>\n",
       "      <td>80</td>\n",
       "      <td>1.021600</td>\n",
       "      <td>1.132806</td>\n",
       "    </tr>\n",
       "    <tr>\n",
       "      <td>100</td>\n",
       "      <td>1.075900</td>\n",
       "      <td>1.130949</td>\n",
       "    </tr>\n",
       "  </tbody>\n",
       "</table><p>"
      ],
      "text/plain": [
       "<IPython.core.display.HTML object>"
      ]
     },
     "metadata": {},
     "output_type": "display_data"
    },
    {
     "name": "stdout",
     "output_type": "stream",
     "text": [
      "Пиковая VRAM для обучения (QLoRa final): 0.000 GB\n"
     ]
    },
    {
     "name": "stderr",
     "output_type": "stream",
     "text": [
      "\u001b[34m\u001b[1mwandb\u001b[0m: \u001b[33mWARNING\u001b[0m Symlinked 9 files into the W&B run directory, call wandb.save again to sync new files.\n"
     ]
    },
    {
     "name": "stdout",
     "output_type": "stream",
     "text": [
      "Лучшие QLoRa адаптеры сохранены в: ./results_qlora/best_qlora_adapters\n",
      "Оценка лучшей QLoRa модели: QLoRa r=32,a=64 (unsloth/Qwen3-0.6B-unsloth-bnb-4bit) (пакетная обработка)...\n"
     ]
    },
    {
     "name": "stderr",
     "output_type": "stream",
     "text": [
      "Оценка QLoRa r=32,a=64 (unsloth/Qwen3-0.6B-unsloth-bnb-4bit): 0it [00:00, ?it/s]A decoder-only architecture is being used, but right-padding was detected! For correct generation results, please set `padding_side='left'` when initializing the tokenizer.\n",
      "/opt/conda/lib/python3.10/site-packages/unsloth/kernels/utils.py:438: UserWarning: An output with one or more elements was resized since it had shape [1, 8, 1024], which does not match the required output shape [8, 1, 1024]. This behavior is deprecated, and in a future PyTorch release outputs will not be resized unless they have zero elements. You can explicitly reuse an out tensor t by resizing it, inplace, to zero elements with t.resize_(0). (Triggered internally at /pytorch/aten/src/ATen/native/Resize.cpp:30.)\n",
      "  out = torch_matmul(X, W.t(), out = out)\n",
      "/opt/conda/lib/python3.10/site-packages/unsloth/kernels/utils.py:443: UserWarning: An output with one or more elements was resized since it had shape [1, 8, 1024], which does not match the required output shape [8, 1, 1024]. This behavior is deprecated, and in a future PyTorch release outputs will not be resized unless they have zero elements. You can explicitly reuse an out tensor t by resizing it, inplace, to zero elements with t.resize_(0). (Triggered internally at /pytorch/aten/src/ATen/native/Resize.cpp:30.)\n",
      "  out = torch_matmul(X, W, out = out)\n",
      "Оценка QLoRa r=32,a=64 (unsloth/Qwen3-0.6B-unsloth-bnb-4bit): 1it [00:28, 28.05s/it]A decoder-only architecture is being used, but right-padding was detected! For correct generation results, please set `padding_side='left'` when initializing the tokenizer.\n",
      "Оценка QLoRa r=32,a=64 (unsloth/Qwen3-0.6B-unsloth-bnb-4bit): 2it [00:55, 27.86s/it]A decoder-only architecture is being used, but right-padding was detected! For correct generation results, please set `padding_side='left'` when initializing the tokenizer.\n",
      "Оценка QLoRa r=32,a=64 (unsloth/Qwen3-0.6B-unsloth-bnb-4bit): 3it [01:23, 27.78s/it]A decoder-only architecture is being used, but right-padding was detected! For correct generation results, please set `padding_side='left'` when initializing the tokenizer.\n",
      "Оценка QLoRa r=32,a=64 (unsloth/Qwen3-0.6B-unsloth-bnb-4bit): 4it [01:51, 27.76s/it]A decoder-only architecture is being used, but right-padding was detected! For correct generation results, please set `padding_side='left'` when initializing the tokenizer.\n",
      "Оценка QLoRa r=32,a=64 (unsloth/Qwen3-0.6B-unsloth-bnb-4bit): 5it [02:18, 27.73s/it]A decoder-only architecture is being used, but right-padding was detected! For correct generation results, please set `padding_side='left'` when initializing the tokenizer.\n",
      "Оценка QLoRa r=32,a=64 (unsloth/Qwen3-0.6B-unsloth-bnb-4bit): 6it [02:46, 27.77s/it]A decoder-only architecture is being used, but right-padding was detected! For correct generation results, please set `padding_side='left'` when initializing the tokenizer.\n",
      "Оценка QLoRa r=32,a=64 (unsloth/Qwen3-0.6B-unsloth-bnb-4bit): 7it [03:14, 27.72s/it]A decoder-only architecture is being used, but right-padding was detected! For correct generation results, please set `padding_side='left'` when initializing the tokenizer.\n",
      "Оценка QLoRa r=32,a=64 (unsloth/Qwen3-0.6B-unsloth-bnb-4bit): 8it [03:42, 27.71s/it]A decoder-only architecture is being used, but right-padding was detected! For correct generation results, please set `padding_side='left'` when initializing the tokenizer.\n",
      "Оценка QLoRa r=32,a=64 (unsloth/Qwen3-0.6B-unsloth-bnb-4bit): 9it [04:09, 27.70s/it]A decoder-only architecture is being used, but right-padding was detected! For correct generation results, please set `padding_side='left'` when initializing the tokenizer.\n",
      "Оценка QLoRa r=32,a=64 (unsloth/Qwen3-0.6B-unsloth-bnb-4bit): 10it [04:37, 27.74s/it]A decoder-only architecture is being used, but right-padding was detected! For correct generation results, please set `padding_side='left'` when initializing the tokenizer.\n",
      "Оценка QLoRa r=32,a=64 (unsloth/Qwen3-0.6B-unsloth-bnb-4bit): 11it [05:05, 27.69s/it]A decoder-only architecture is being used, but right-padding was detected! For correct generation results, please set `padding_side='left'` when initializing the tokenizer.\n",
      "Оценка QLoRa r=32,a=64 (unsloth/Qwen3-0.6B-unsloth-bnb-4bit): 12it [05:32, 27.63s/it]A decoder-only architecture is being used, but right-padding was detected! For correct generation results, please set `padding_side='left'` when initializing the tokenizer.\n",
      "/opt/conda/lib/python3.10/site-packages/unsloth/kernels/utils.py:438: UserWarning: An output with one or more elements was resized since it had shape [1, 4, 1024], which does not match the required output shape [4, 1, 1024]. This behavior is deprecated, and in a future PyTorch release outputs will not be resized unless they have zero elements. You can explicitly reuse an out tensor t by resizing it, inplace, to zero elements with t.resize_(0). (Triggered internally at /pytorch/aten/src/ATen/native/Resize.cpp:30.)\n",
      "  out = torch_matmul(X, W.t(), out = out)\n",
      "/opt/conda/lib/python3.10/site-packages/unsloth/kernels/utils.py:443: UserWarning: An output with one or more elements was resized since it had shape [1, 4, 1024], which does not match the required output shape [4, 1, 1024]. This behavior is deprecated, and in a future PyTorch release outputs will not be resized unless they have zero elements. You can explicitly reuse an out tensor t by resizing it, inplace, to zero elements with t.resize_(0). (Triggered internally at /pytorch/aten/src/ATen/native/Resize.cpp:30.)\n",
      "  out = torch_matmul(X, W, out = out)\n",
      "Оценка QLoRa r=32,a=64 (unsloth/Qwen3-0.6B-unsloth-bnb-4bit): 13it [05:59, 27.64s/it]\n"
     ]
    },
    {
     "name": "stdout",
     "output_type": "stream",
     "text": [
      "BLEU (QLoRa r=32,a=64 (unsloth/Qwen3-0.6B-unsloth-bnb-4bit)): 0.1633\n",
      "CER (QLoRa r=32,a=64 (unsloth/Qwen3-0.6B-unsloth-bnb-4bit)): 0.9105\n",
      "Avg Inference Latency per sample (QLoRa r=32,a=64 (unsloth/Qwen3-0.6B-unsloth-bnb-4bit)): 3.5902 s\n",
      "Peak VRAM during batched inference (QLoRa r=32,a=64 (unsloth/Qwen3-0.6B-unsloth-bnb-4bit)): 2.898 GB\n"
     ]
    },
    {
     "data": {
      "text/html": [],
      "text/plain": [
       "<IPython.core.display.HTML object>"
      ]
     },
     "metadata": {},
     "output_type": "display_data"
    },
    {
     "data": {
      "text/html": [
       "<br>    <style><br>        .wandb-row {<br>            display: flex;<br>            flex-direction: row;<br>            flex-wrap: wrap;<br>            justify-content: flex-start;<br>            width: 100%;<br>        }<br>        .wandb-col {<br>            display: flex;<br>            flex-direction: column;<br>            flex-basis: 100%;<br>            flex: 1;<br>            padding: 10px;<br>        }<br>    </style><br><div class=\"wandb-row\"><div class=\"wandb-col\"><h3>Run history:</h3><br/><table class=\"wandb\"><tr><td>avg_inference_latency_per_sample</td><td>▁</td></tr><tr><td>best_val_loss_final_train</td><td>▁</td></tr><tr><td>eval/loss</td><td>█▄▂▁▁</td></tr><tr><td>eval/runtime</td><td>▄▁▂█▃</td></tr><tr><td>eval/samples_per_second</td><td>▅█▇▁▆</td></tr><tr><td>eval/steps_per_second</td><td>▅█▇▁▆</td></tr><tr><td>eval_bleu</td><td>▁</td></tr><tr><td>eval_cer</td><td>▁</td></tr><tr><td>peak_inference_vram_gb</td><td>▁</td></tr><tr><td>peak_vram_train_gb</td><td>▁</td></tr><tr><td>total_params_base_quant</td><td>▁</td></tr><tr><td>train/epoch</td><td>▁▁▁▁▁▂▂▂▂▂▃▃▃▃▃▄▄▄▄▄▅▅▅▅▅▆▆▆▆▆▇▇▇▇▇▇████</td></tr><tr><td>train/global_step</td><td>▁▁▁▁▂▂▂▂▃▃▃▃▃▄▄▄▄▄▅▅▅▅▆▆▆▆▆▆▇▇▇▇▇▇▇▇▇███</td></tr><tr><td>train/grad_norm</td><td>▇█▆▆▃▃▃▂▂▂▁▂▂▂▁▁▂▁▁▁▁▁▂▁▁▁▁▁▁▂▁▁▁▁▁▁▁▁▁▁</td></tr><tr><td>train/learning_rate</td><td>▃▄█████▇▇▇▇▆▆▆▆▅▅▅▅▅▅▅▄▄▄▄▄▄▄▃▃▃▂▂▂▂▂▁▁▁</td></tr><tr><td>train/loss</td><td>██▇▆▄▃▃▄▄▃▃▃▂▂▃▃▃▃▃▄▃▂▂▂▂▃▂▃▂▃▂▂▁▂▁▁▂▁▂▂</td></tr><tr><td>trainable_params</td><td>▁</td></tr></table><br/></div><div class=\"wandb-col\"><h3>Run summary:</h3><br/><table class=\"wandb\"><tr><td>avg_inference_latency_per_sample</td><td>3.59024</td></tr><tr><td>best_val_loss_final_train</td><td>-1</td></tr><tr><td>eval/loss</td><td>1.13095</td></tr><tr><td>eval/runtime</td><td>6.9526</td></tr><tr><td>eval/samples_per_second</td><td>19.993</td></tr><tr><td>eval/steps_per_second</td><td>10.068</td></tr><tr><td>eval_bleu</td><td>0.16333</td></tr><tr><td>eval_cer</td><td>0.91051</td></tr><tr><td>peak_inference_vram_gb</td><td>2.89801</td></tr><tr><td>peak_vram_train_gb</td><td>0</td></tr><tr><td>total_flos</td><td>2513150759927808.0</td></tr><tr><td>total_params_base_quant</td><td>408616960</td></tr><tr><td>train/epoch</td><td>1.43165</td></tr><tr><td>train/global_step</td><td>100</td></tr><tr><td>train/grad_norm</td><td>0.46899</td></tr><tr><td>train/learning_rate</td><td>0.0</td></tr><tr><td>train/loss</td><td>1.0759</td></tr><tr><td>train_loss</td><td>1.17667</td></tr><tr><td>train_runtime</td><td>174.3063</td></tr><tr><td>train_samples_per_second</td><td>4.59</td></tr><tr><td>train_steps_per_second</td><td>0.574</td></tr><tr><td>trainable_params</td><td>20185088</td></tr></table><br/></div></div>"
      ],
      "text/plain": [
       "<IPython.core.display.HTML object>"
      ]
     },
     "metadata": {},
     "output_type": "display_data"
    },
    {
     "data": {
      "text/html": [
       " View run <strong style=\"color:#cdcd00\">exp3_qlora_final_training</strong> at: <a href='https://wandb.ai/galkin-vova42/quantization_experiments/runs/6xp8bmnb' target=\"_blank\">https://wandb.ai/galkin-vova42/quantization_experiments/runs/6xp8bmnb</a><br> View project at: <a href='https://wandb.ai/galkin-vova42/quantization_experiments' target=\"_blank\">https://wandb.ai/galkin-vova42/quantization_experiments</a><br>Synced 5 W&B file(s), 0 media file(s), 0 artifact file(s) and 9 other file(s)"
      ],
      "text/plain": [
       "<IPython.core.display.HTML object>"
      ]
     },
     "metadata": {},
     "output_type": "display_data"
    },
    {
     "data": {
      "text/html": [
       "Find logs at: <code>./wandb/run-20250518_225051-6xp8bmnb/logs</code>"
      ],
      "text/plain": [
       "<IPython.core.display.HTML object>"
      ]
     },
     "metadata": {},
     "output_type": "display_data"
    },
    {
     "name": "stdout",
     "output_type": "stream",
     "text": [
      "Could not move an object to CPU: `.to` is not supported for `8-bit` bitsandbytes models. Please use the model as it is, since the model has already been set to the correct devices and casted to the correct `dtype`.\n",
      "GPU memory cleared.\n"
     ]
    }
   ],
   "source": [
    "run_experiment_3_qlora(all_experiment_results)"
   ]
  },
  {
   "cell_type": "markdown",
   "id": "38e8f99e-8e4c-49a2-8618-b50cc7091a67",
   "metadata": {},
   "source": [
    "### Эксперемент 3. Full SFT + PTQ"
   ]
  },
  {
   "cell_type": "code",
   "execution_count": 12,
   "id": "879f1f6e-4bf8-421b-a38e-0c79292907c9",
   "metadata": {
    "tags": []
   },
   "outputs": [
    {
     "name": "stdout",
     "output_type": "stream",
     "text": [
      "==((====))==  Unsloth 2025.5.6: Fast Qwen3 patching. Transformers: 4.51.3.\n",
      "   \\\\   /|    NVIDIA GeForce RTX 4090. Num GPUs = 1. Max memory: 23.526 GB. Platform: Linux.\n",
      "O^O/ \\_/ \\    Torch: 2.7.0+cu126. CUDA: 8.9. CUDA Toolkit: 12.6. Triton: 3.3.0\n",
      "\\        /    Bfloat16 = TRUE. FA [Xformers = 0.0.30. FA2 = False]\n",
      " \"-____-\"     Free license: http://github.com/unslothai/unsloth\n",
      "Unsloth: Fast downloading is enabled - ignore downloading bars which are red colored!\n"
     ]
    },
    {
     "name": "stderr",
     "output_type": "stream",
     "text": [
      "Unsloth: Tokenizing [\"text\"] (num_proc=2): 100%|██████████| 555/555 [00:01<00:00, 284.08 examples/s]\n",
      "Unsloth: Tokenizing [\"text\"] (num_proc=2): 100%|██████████| 139/139 [00:01<00:00, 116.76 examples/s]\n"
     ]
    }
   ],
   "source": [
    "model_sft, tokenizer_sft = FastLanguageModel.from_pretrained(\n",
    "    model_name = BASE_MODEL_NAME_FULL_PRECISION,\n",
    "    max_seq_length = 2048,   # Context length - can be longer, but uses more memory\n",
    "    load_in_4bit = False,     # 4bit uses much less memory\n",
    "    load_in_8bit = False,    # A bit more accurate, uses 2x memory\n",
    "    full_finetuning = False, # We have full finetuning now!\n",
    ")\n",
    "\n",
    "for param in model_sft.parameters():\n",
    "    param.requires_grad = True\n",
    "\n",
    "dataset_train_sft = Dataset.from_dict(formatting_prompts_func(dataset_train_formatted, tokenizer_sft))\n",
    "dataset_test_sft = Dataset.from_dict(formatting_prompts_func(dataset_test_formatted, tokenizer_sft))\n",
    "\n",
    "OUTPUT_DIR_FULL_SFT = 'text-correction/all_exps/results_full_sft'\n",
    "\n",
    "sft_config = SFTConfig(\n",
    "    dataset_text_field=\"text\",\n",
    "    output_dir=OUTPUT_DIR_FULL_SFT,\n",
    "    per_device_train_batch_size=3, # Очень маленький батч из-за VRAM\n",
    "    per_device_eval_batch_size=3,\n",
    "    gradient_accumulation_steps=16, # Увеличиваем GA для компенсации малого батча\n",
    "    warmup_steps=10,\n",
    "    max_steps=100,\n",
    "    learning_rate=5e-6, # Обычно ниже для Full SFT (например, 2e-5, 1e-5, 5e-6)\n",
    "    logging_steps=1,\n",
    "    optim=\"adamw_torch\",\n",
    "    weight_decay=0.01,\n",
    "    # num_train_epochs=2,\n",
    "    lr_scheduler_type=\"linear\",\n",
    "    seed=42,\n",
    "    report_to=\"wandb\",\n",
    "    fp16=False, # bf16 предпочтительнее, если доступно и модель загружена в bf16\n",
    "    bf16=torch.cuda.is_bf16_supported(),\n",
    "    do_eval=True,\n",
    "    eval_strategy=\"steps\",\n",
    "    eval_steps=10,\n",
    "    save_strategy=\"steps\",\n",
    "    save_steps=10,\n",
    "    save_total_limit=2,\n",
    "    load_best_model_at_end=True,\n",
    "    metric_for_best_model=\"eval_loss\",\n",
    "    greater_is_better=False,\n",
    "    # gradient_checkpointing=True, # Можно включить здесь или Unsloth уже мог включить\n",
    "    # Для очень больших моделей и ограниченной VRAM, рассмотрите DeepSpeed:\n",
    "    # deepspeed=\"path/to/deepspeed_config.json\", # если у вас есть конфиг DeepSpeed (Stage 2 или 3)\n",
    ")\n",
    "\n",
    "trainer_sft = SFTTrainer(\n",
    "    model=model_sft,\n",
    "    tokenizer=tokenizer_sft,\n",
    "    train_dataset=dataset_train_sft,\n",
    "    eval_dataset=dataset_test_sft,\n",
    "    args=sft_config,\n",
    ")"
   ]
  },
  {
   "cell_type": "code",
   "execution_count": 13,
   "id": "9a622fc1-83c0-4f1a-bd14-9f193ccdce8b",
   "metadata": {
    "tags": []
   },
   "outputs": [
    {
     "name": "stderr",
     "output_type": "stream",
     "text": [
      "==((====))==  Unsloth - 2x faster free finetuning | Num GPUs used = 1\n",
      "   \\\\   /|    Num examples = 555 | Num Epochs = 10 | Total steps = 100\n",
      "O^O/ \\_/ \\    Batch size per device = 3 | Gradient accumulation steps = 16\n",
      "\\        /    Data Parallel GPUs = 1 | Total batch size (3 x 16 x 1) = 48\n",
      " \"-____-\"     Trainable parameters = 596,049,920/596,049,920 (100.00% trained)\n"
     ]
    },
    {
     "data": {
      "text/html": [
       "\n",
       "    <div>\n",
       "      \n",
       "      <progress value='100' max='100' style='width:300px; height:20px; vertical-align: middle;'></progress>\n",
       "      [100/100 07:50, Epoch 8/10]\n",
       "    </div>\n",
       "    <table border=\"1\" class=\"dataframe\">\n",
       "  <thead>\n",
       " <tr style=\"text-align: left;\">\n",
       "      <th>Step</th>\n",
       "      <th>Training Loss</th>\n",
       "      <th>Validation Loss</th>\n",
       "    </tr>\n",
       "  </thead>\n",
       "  <tbody>\n",
       "    <tr>\n",
       "      <td>10</td>\n",
       "      <td>1.623700</td>\n",
       "      <td>1.649266</td>\n",
       "    </tr>\n",
       "    <tr>\n",
       "      <td>20</td>\n",
       "      <td>1.516800</td>\n",
       "      <td>1.494032</td>\n",
       "    </tr>\n",
       "    <tr>\n",
       "      <td>30</td>\n",
       "      <td>1.375800</td>\n",
       "      <td>1.389468</td>\n",
       "    </tr>\n",
       "    <tr>\n",
       "      <td>40</td>\n",
       "      <td>1.350300</td>\n",
       "      <td>1.312293</td>\n",
       "    </tr>\n",
       "    <tr>\n",
       "      <td>50</td>\n",
       "      <td>1.287000</td>\n",
       "      <td>1.268899</td>\n",
       "    </tr>\n",
       "    <tr>\n",
       "      <td>60</td>\n",
       "      <td>1.247700</td>\n",
       "      <td>1.245877</td>\n",
       "    </tr>\n",
       "    <tr>\n",
       "      <td>70</td>\n",
       "      <td>1.223900</td>\n",
       "      <td>1.234134</td>\n",
       "    </tr>\n",
       "    <tr>\n",
       "      <td>80</td>\n",
       "      <td>1.225700</td>\n",
       "      <td>1.229404</td>\n",
       "    </tr>\n",
       "    <tr>\n",
       "      <td>90</td>\n",
       "      <td>1.177200</td>\n",
       "      <td>1.228148</td>\n",
       "    </tr>\n",
       "    <tr>\n",
       "      <td>100</td>\n",
       "      <td>1.215100</td>\n",
       "      <td>1.227621</td>\n",
       "    </tr>\n",
       "  </tbody>\n",
       "</table><p>"
      ],
      "text/plain": [
       "<IPython.core.display.HTML object>"
      ]
     },
     "metadata": {},
     "output_type": "display_data"
    },
    {
     "name": "stderr",
     "output_type": "stream",
     "text": [
      "There were missing keys in the checkpoint model loaded: ['lm_head.weight'].\n"
     ]
    },
    {
     "data": {
      "text/plain": [
       "TrainOutput(global_step=100, training_loss=1.3467343986034392, metrics={'train_runtime': 474.3145, 'train_samples_per_second': 10.12, 'train_steps_per_second': 0.211, 'total_flos': 1.533264131063808e+16, 'train_loss': 1.3467343986034392})"
      ]
     },
     "execution_count": 13,
     "metadata": {},
     "output_type": "execute_result"
    }
   ],
   "source": [
    "trainer_sft.train()"
   ]
  },
  {
   "cell_type": "code",
   "execution_count": 26,
   "id": "fc629a13-ac4b-4df1-a110-9a29c3526ed9",
   "metadata": {
    "tags": []
   },
   "outputs": [
    {
     "name": "stderr",
     "output_type": "stream",
     "text": [
      "Оценка sft model: 0it [00:00, ?it/s]A decoder-only architecture is being used, but right-padding was detected! For correct generation results, please set `padding_side='left'` when initializing the tokenizer.\n",
      "/opt/conda/lib/python3.10/site-packages/unsloth/kernels/utils.py:438: UserWarning: An output with one or more elements was resized since it had shape [1, 8, 1024], which does not match the required output shape [8, 1, 1024]. This behavior is deprecated, and in a future PyTorch release outputs will not be resized unless they have zero elements. You can explicitly reuse an out tensor t by resizing it, inplace, to zero elements with t.resize_(0). (Triggered internally at /pytorch/aten/src/ATen/native/Resize.cpp:30.)\n",
      "  out = torch_matmul(X, W.t(), out = out)\n",
      "Оценка sft model: 1it [00:15, 15.25s/it]A decoder-only architecture is being used, but right-padding was detected! For correct generation results, please set `padding_side='left'` when initializing the tokenizer.\n",
      "Оценка sft model: 2it [00:30, 15.35s/it]A decoder-only architecture is being used, but right-padding was detected! For correct generation results, please set `padding_side='left'` when initializing the tokenizer.\n",
      "Оценка sft model: 3it [00:45, 15.31s/it]A decoder-only architecture is being used, but right-padding was detected! For correct generation results, please set `padding_side='left'` when initializing the tokenizer.\n",
      "Оценка sft model: 4it [01:01, 15.29s/it]A decoder-only architecture is being used, but right-padding was detected! For correct generation results, please set `padding_side='left'` when initializing the tokenizer.\n",
      "Оценка sft model: 5it [01:16, 15.28s/it]A decoder-only architecture is being used, but right-padding was detected! For correct generation results, please set `padding_side='left'` when initializing the tokenizer.\n",
      "Оценка sft model: 6it [01:31, 15.31s/it]A decoder-only architecture is being used, but right-padding was detected! For correct generation results, please set `padding_side='left'` when initializing the tokenizer.\n",
      "Оценка sft model: 7it [01:47, 15.33s/it]A decoder-only architecture is being used, but right-padding was detected! For correct generation results, please set `padding_side='left'` when initializing the tokenizer.\n",
      "Оценка sft model: 8it [02:02, 15.27s/it]A decoder-only architecture is being used, but right-padding was detected! For correct generation results, please set `padding_side='left'` when initializing the tokenizer.\n",
      "Оценка sft model: 9it [02:17, 15.35s/it]A decoder-only architecture is being used, but right-padding was detected! For correct generation results, please set `padding_side='left'` when initializing the tokenizer.\n",
      "Оценка sft model: 10it [02:33, 15.29s/it]A decoder-only architecture is being used, but right-padding was detected! For correct generation results, please set `padding_side='left'` when initializing the tokenizer.\n",
      "Оценка sft model: 11it [02:48, 15.23s/it]A decoder-only architecture is being used, but right-padding was detected! For correct generation results, please set `padding_side='left'` when initializing the tokenizer.\n",
      "Оценка sft model: 12it [03:03, 15.22s/it]A decoder-only architecture is being used, but right-padding was detected! For correct generation results, please set `padding_side='left'` when initializing the tokenizer.\n",
      "/opt/conda/lib/python3.10/site-packages/unsloth/kernels/utils.py:438: UserWarning: An output with one or more elements was resized since it had shape [1, 4, 1024], which does not match the required output shape [4, 1, 1024]. This behavior is deprecated, and in a future PyTorch release outputs will not be resized unless they have zero elements. You can explicitly reuse an out tensor t by resizing it, inplace, to zero elements with t.resize_(0). (Triggered internally at /pytorch/aten/src/ATen/native/Resize.cpp:30.)\n",
      "  out = torch_matmul(X, W.t(), out = out)\n",
      "Оценка sft model: 13it [03:17, 15.20s/it]\n"
     ]
    },
    {
     "name": "stdout",
     "output_type": "stream",
     "text": [
      "BLEU 0.2139\n",
      "CER 0.7020\n"
     ]
    }
   ],
   "source": [
    "eval_batch_size_qlora = 8\n",
    "\n",
    "predictions_q_final = []\n",
    "references_q_final = []\n",
    "latencies_q_final = []\n",
    "num_samples_for_eval = min(100, len(dataset_test_raw))\n",
    "\n",
    "eval_data_q_final = []\n",
    "for i in range(num_samples_for_eval):\n",
    "    example = dataset_test_raw[i] \n",
    "    eval_data_q_final.append({\n",
    "        \"user_content\": example[\"text_with_errors\"],\n",
    "        \"reference_text\": example[\"corrected_text\"]\n",
    "    })\n",
    "\n",
    "if torch.cuda.is_available():\n",
    "    torch.cuda.reset_peak_memory_stats()\n",
    "    _ = torch.cuda.max_memory_allocated()\n",
    "\n",
    "device = \"cuda\" if torch.cuda.is_available() else \"cpu\"\n",
    "if tokenizer_sft.pad_token is None:\n",
    "    tokenizer_sft.pad_token = tokenizer_sft.eos_token\n",
    "\n",
    "for batch_data in tqdm(create_batches(eval_data_q_final, eval_batch_size_qlora), desc=f\"Оценка sft model\"):\n",
    "    batch_prompts_text = []\n",
    "    current_references = []\n",
    "\n",
    "    for item in batch_data:\n",
    "        messages = [\n",
    "            {\"role\": \"system\", \"content\": SYSTEM_PROMPT},\n",
    "            {\"role\": \"user\", \"content\": item[\"user_content\"]}\n",
    "        ]\n",
    "        prompt_text = tokenizer_sft.apply_chat_template(messages, tokenize=False, add_generation_prompt=True)\n",
    "        batch_prompts_text.append(prompt_text)\n",
    "        current_references.append(item[\"reference_text\"].strip())\n",
    "\n",
    "    current_max_len_qlora = MAX_SEQ_LENGTH\n",
    "    if hasattr(tokenizer_sft, 'model_max_length') and tokenizer_sft.model_max_length:\n",
    "        current_max_len_qlora = min(tokenizer_sft.model_max_length, MAX_SEQ_LENGTH)\n",
    "\n",
    "    inputs = tokenizer_sft(\n",
    "        batch_prompts_text, \n",
    "        return_tensors=\"pt\", \n",
    "        padding=True,\n",
    "        truncation=True,\n",
    "        max_length=current_max_len_qlora\n",
    "    ).to(device)\n",
    "\n",
    "    start_time = time.time()\n",
    "    with torch.no_grad():\n",
    "        outputs = model_sft.generate(\n",
    "            **inputs, \n",
    "            max_new_tokens=min(512, MAX_SEQ_LENGTH),\n",
    "            temperature=0.01, # Как в вашем Exp1\n",
    "            do_sample=False,\n",
    "            pad_token_id=tokenizer_sft.pad_token_id\n",
    "        )\n",
    "    end_time = time.time()\n",
    "    latencies_q_final.append(end_time - start_time)\n",
    "\n",
    "    input_ids_lengths = inputs.attention_mask.sum(dim=1).tolist()\n",
    "\n",
    "    batch_output_texts = []\n",
    "    for i in range(outputs.shape[0]):\n",
    "        generated_tokens_only = outputs[i, input_ids_lengths[i]:]\n",
    "        output_text = tokenizer_sft.decode(generated_tokens_only, skip_special_tokens=True)\n",
    "        batch_output_texts.append(output_text.strip())\n",
    "\n",
    "    predictions_q_final.extend(batch_output_texts)\n",
    "    references_q_final.extend(current_references)\n",
    "\n",
    "peak_inference_vram_qlora_gb = 0\n",
    "if torch.cuda.is_available():\n",
    "    peak_inference_vram_qlora_bytes = torch.cuda.max_memory_allocated() \n",
    "    peak_inference_vram_qlora_gb = peak_inference_vram_qlora_bytes / (1024**3)\n",
    "\n",
    "bleu_score_q = calculate_bleu(predictions_q_final, references_q_final)\n",
    "cer_score_q = calculate_cer(predictions_q_final, references_q_final)\n",
    "\n",
    "total_inference_time_q = sum(latencies_q_final)\n",
    "avg_latency_per_sample_q = total_inference_time_q / num_samples_for_eval if num_samples_for_eval > 0 else -1\n",
    "\n",
    "print(f\"BLEU {bleu_score_q:.4f}\")\n",
    "print(f\"CER {cer_score_q:.4f}\")"
   ]
  },
  {
   "cell_type": "code",
   "execution_count": 14,
   "id": "520f65ee-731a-4e65-bbe0-99beaacb7aff",
   "metadata": {
    "tags": []
   },
   "outputs": [],
   "source": [
    "from transformers import GPTQConfig, AutoTokenizer"
   ]
  },
  {
   "cell_type": "code",
   "execution_count": 18,
   "id": "937f0279-5423-4d07-9030-a07dc0417b72",
   "metadata": {
    "tags": []
   },
   "outputs": [
    {
     "name": "stdout",
     "output_type": "stream",
     "text": [
      "qwen3 isn't supported yet.\n"
     ]
    }
   ],
   "source": [
    "from auto_gptq import AutoGPTQForCausalLM, BaseQuantizeConfig\n",
    "import logging\n",
    "\n",
    "pretrained_model_dir = \"results_full_sft/checkpoint-100\"\n",
    "quantized_model_dir = \"quantized\"\n",
    "\n",
    "quantize_config = BaseQuantizeConfig(\n",
    "    bits=4,\n",
    "    group_size=128,\n",
    "    desc_act=False,\n",
    ")\n",
    "\n",
    "try:\n",
    "    model = AutoGPTQForCausalLM.from_pretrained(pretrained_model_dir, quantize_config)\n",
    "except Exception as e:\n",
    "    print(e)"
   ]
  },
  {
   "cell_type": "code",
   "execution_count": 54,
   "id": "3053649b-d546-4739-975c-a1694d0674a4",
   "metadata": {
    "tags": []
   },
   "outputs": [],
   "source": []
  },
  {
   "cell_type": "code",
   "execution_count": 59,
   "id": "616e0af4-5e40-4e71-9bb3-1038d7c143eb",
   "metadata": {
    "tags": []
   },
   "outputs": [
    {
     "name": "stdout",
     "output_type": "stream",
     "text": [
      "system\n",
      "Отредактируйте следующий текст. Очень важно, чтобы вы сохранили как можно больше оригинального текста. Вы можете вносить небольшие и нечастые правки, которые исправляют только грамматические, орфографические или пунктационные ошибки. Если в предложении нет ошибок, повторите предложение дословно. Не объясняйте свои правки и не добавляйте примечания. Используйте только русский язык.\n",
      "user\n",
      "Генеральный диретор симферопольской «Таврии» Александер Гайдаш в перерыве матча против «Гвардейца» (Гвардейское Симферопольский район) напал на одного из помошников главного арбитра встречи Руслана Селимова. Об этом сообщает Matcday. Команды встречались в игре третьего тура Всекрымского турнира-2015. Гайдаш ворвался в судейскую и нанес Селимову несколько ударов. Почти сразу был вызван наряд полиции, но главный арбитр встречи Дмитрий Грачев принял решение, не останавливать поединок. Вышел на матч, и сам пострадавший помощник рефери. После игры, был составлен протокол. Свидетелями выступили арбитр, и второй помощник. Инспектор матча Владимир Куцев, отметил эпизод в рапорте и отправил его в Федерацию футбола Крыма. Теперь Гайдашу грозят серьёзные санкции. Агрессивная реакция Александра Гайдаша, на действия помощника рефери была спровоцирована решением ассистента об отмене, в первом тайме гола «Таврии» за нападение на вратаря соперников. Встреча завершилась победой «Гвардейца» со счетом 1:0. В августе 2011 года в перерыве матча чемпионата России по футболу между махачкалинским «Анжи» и московским «Динамо» (2:1), неизвестный сломал дверь в коридоре ведущем в судейскую комнату и комнату делегата матча. Подозрения пали на главного тренера команды из Дагестана Гаджи Гаджиева но никаких доказательств так и не было представлено.\n",
      "assistant\n",
      "<think>\n",
      "\n",
      "</think>\n",
      "\n",
      "Генеральный директор симферопольской «Таврии» Александр Гайдаш в перерыве матча против «Гвардейца» (Гвардейское, Симферопольский район) напал на одного из помощников главного арбитра встречи Руслана Селимова. Об этом сообщает Matcday. Команды встречались в игре третьего тура Всекрымского турнира-2015. Гайдаш ворвался в судейскую и нанес Селимову несколько ударов. Почти сразу был вызван наряд полиции, но главный арбитр встречи Дмитрий Грачев принял решение не останавливать поединок. Вышел на матч и сам пострадавший помощник рефери. После игры был составлен протокол. Свидетелями выступили арбитр и второй помощник. Инспектор матча Владимир Куцев отметил эпизод в рапорте и отправил его в Федерацию футбола Крыма. Теперь Гайдашу грозят серьезные санкции. Агрессивная реакция Александра Гайдаша на действия помощника рефери была спровоцирована решением ассистента об отмене в первом тайме гола «Таврии» за нападение на вратаря соперников. Встреча завершилась победой «Гвардейца» со счетом 1:0. В августе 2011 года в перерыве матча чемпионата России по футболу между махачкалинским «Анжи» и московским «Динамо» (2:1) неизвестный сломал дверь в коридоре, ведущем в судейскую комнату и комнату делегата матча. Подозрения пали на главного тренера команды из Дагестана Гаджи Гаджиева, но никаких доказательств так и не было представлено. \n",
      "#1\n",
      "Генеральный директор симферопольской «Таврии» Александр Гайдаш в перерыве матча против «Гвардейца» (Гвардейское, Симферопольский район) напал на одного из помощников главного арбитра встречи Руслана Селимова. Об этом сообщает Matcday. Команды встречались в игре третьего тура Всекрымского турнира-2015. Гайдаш ворвался в судейскую и нанес Селимову несколько ударов. Почти сразу был вызван наряд полиции, но главный арбитр встречи Дмитрий Грачев принял решение не останавливать поединок. Вышел на матч и сам пострадавший помощник рефери. После игры был составлен протокол. Свидетелями выступили арбитр и второй помощник. Инспектор матча Владимир Куцев отметил эпизод в рапорте и отправил его в Федерацию футбола Крыма. Теперь Гайдашу грозят серьезные санкции. Агрессивная реакция Александра Гайдаша на действия помощника рефери была спровоцирована решением ассистента об отмене в первом тайме гола «Таврии» за нападение на вратаря соперников. Встреча завершилась победой «Гвардейца» со счетом 1:0.\n"
     ]
    }
   ],
   "source": [
    "batch = dataset_test_sft['text'][2:3]\n",
    "\n",
    "inputs = tokenizer_sft(\n",
    "    batch, \n",
    "    return_tensors=\"pt\", \n",
    "    padding=True,\n",
    "    truncation=True,\n",
    "    max_length=current_max_len_qlora\n",
    ").to(device)\n",
    "\n",
    "with torch.no_grad():\n",
    "    outputs = model_sft.generate(\n",
    "        **inputs, \n",
    "        max_new_tokens=min(512, MAX_SEQ_LENGTH),\n",
    "        do_sample=False,  # Greedy decoding\n",
    "        pad_token_id=tokenizer_sft.pad_token_id,\n",
    "        eos_token_id=tokenizer_sft.eos_token_id  # Often helpful to add\n",
    "    )\n",
    "\n",
    "generated_text = tokenizer_sft.decode(outputs[0], skip_special_tokens=True)\n",
    "print(generated_text)"
   ]
  },
  {
   "cell_type": "code",
   "execution_count": 71,
   "id": "5ee60f21-80e4-48c6-aee8-cbc82f43829b",
   "metadata": {
    "tags": []
   },
   "outputs": [
    {
     "name": "stderr",
     "output_type": "stream",
     "text": [
      "/tmp/ipykernel_1274/1980763572.py:2: DeprecationWarning: Importing display from IPython.core.display is deprecated since IPython 7.14, please import from IPython.display\n",
      "  from IPython.core.display import display, HTML\n"
     ]
    },
    {
     "data": {
      "text/html": [
       "Генеральный <span style=\"color: red; text-decoration: line-through;\">диретор</span> <span style=\"color: green;\">директор</span> симферопольской «Таврии» <span style=\"color: red; text-decoration: line-through;\">Александер</span> <span style=\"color: green;\">Александр</span> Гайдаш в перерыве матча против «Гвардейца» <span style=\"color: red; text-decoration: line-through;\">(Гвардейское</span> <span style=\"color: green;\">(Гвардейское,</span> Симферопольский район) напал на одного из <span style=\"color: red; text-decoration: line-through;\">помошников</span> <span style=\"color: green;\">помощников</span> главного арбитра встречи Руслана Селимова. Об этом сообщает Matcday. Команды встречались в игре третьего тура Всекрымского турнира-2015. Гайдаш ворвался в судейскую и нанес Селимову несколько ударов. Почти сразу был вызван наряд полиции, но главный арбитр встречи Дмитрий Грачев принял <span style=\"color: red; text-decoration: line-through;\">решение,</span> <span style=\"color: green;\">решение</span> не останавливать поединок. Вышел на <span style=\"color: red; text-decoration: line-through;\">матч,</span> <span style=\"color: green;\">матч</span> и сам пострадавший помощник рефери. После <span style=\"color: red; text-decoration: line-through;\">игры,</span> <span style=\"color: green;\">игры</span> был составлен протокол. Свидетелями выступили <span style=\"color: red; text-decoration: line-through;\">арбитр,</span> <span style=\"color: green;\">арбитр</span> и второй помощник. Инспектор матча Владимир <span style=\"color: red; text-decoration: line-through;\">Куцев,</span> <span style=\"color: green;\">Куцев</span> отметил эпизод в рапорте и отправил его в Федерацию футбола Крыма. Теперь Гайдашу грозят <span style=\"color: red; text-decoration: line-through;\">серьёзные</span> <span style=\"color: green;\">серьезные</span> санкции. Агрессивная реакция Александра <span style=\"color: red; text-decoration: line-through;\">Гайдаша,</span> <span style=\"color: green;\">Гайдаша</span> на действия помощника рефери была спровоцирована решением ассистента об <span style=\"color: red; text-decoration: line-through;\">отмене,</span> <span style=\"color: green;\">отмене</span> в первом тайме гола «Таврии» за нападение на вратаря соперников. Встреча завершилась победой «Гвардейца» со счетом 1:0. В августе 2011 года в перерыве матча чемпионата России по футболу между махачкалинским «Анжи» и московским «Динамо» <span style=\"color: red; text-decoration: line-through;\">(2:1),</span> <span style=\"color: green;\">(2:1)</span> неизвестный сломал дверь в <span style=\"color: red; text-decoration: line-through;\">коридоре</span> <span style=\"color: green;\">коридоре,</span> ведущем в судейскую комнату и комнату делегата матча. Подозрения пали на главного тренера команды из Дагестана Гаджи <span style=\"color: red; text-decoration: line-through;\">Гаджиева</span> <span style=\"color: green;\">Гаджиева,</span> но никаких доказательств так и не было представлено. "
      ],
      "text/plain": [
       "<IPython.core.display.HTML object>"
      ]
     },
     "metadata": {},
     "output_type": "display_data"
    }
   ],
   "source": [
    "from difflib import ndiff\n",
    "from IPython.core.display import display, HTML\n",
    "\n",
    "def format_diffs(original, corrected):\n",
    "    diffs = list(ndiff(original.split(), corrected.split()))\n",
    "    formatted_text = \"\"\n",
    "    for diff in diffs:\n",
    "        if diff.startswith('-'):\n",
    "            formatted_text += f'<span style=\"color: red; text-decoration: line-through;\">{diff[2:]}</span> '\n",
    "        elif diff.startswith('+'):\n",
    "            formatted_text += f'<span style=\"color: green;\">{diff[2:]}</span> '\n",
    "        elif diff.startswith(' '):\n",
    "            formatted_text += diff[2:] + ' '\n",
    "    return formatted_text\n",
    "\n",
    "input_text = 'Генеральный диретор симферопольской «Таврии» Александер Гайдаш в перерыве матча против «Гвардейца» (Гвардейское Симферопольский район) напал на одного из помошников главного арбитра встречи Руслана Селимова. Об этом сообщает Matcday. Команды встречались в игре третьего тура Всекрымского турнира-2015. Гайдаш ворвался в судейскую и нанес Селимову несколько ударов. Почти сразу был вызван наряд полиции, но главный арбитр встречи Дмитрий Грачев принял решение, не останавливать поединок. Вышел на матч, и сам пострадавший помощник рефери. После игры, был составлен протокол. Свидетелями выступили арбитр, и второй помощник. Инспектор матча Владимир Куцев, отметил эпизод в рапорте и отправил его в Федерацию футбола Крыма. Теперь Гайдашу грозят серьёзные санкции. Агрессивная реакция Александра Гайдаша, на действия помощника рефери была спровоцирована решением ассистента об отмене, в первом тайме гола «Таврии» за нападение на вратаря соперников. Встреча завершилась победой «Гвардейца» со счетом 1:0. В августе 2011 года в перерыве матча чемпионата России по футболу между махачкалинским «Анжи» и московским «Динамо» (2:1), неизвестный сломал дверь в коридоре ведущем в судейскую комнату и комнату делегата матча. Подозрения пали на главного тренера команды из Дагестана Гаджи Гаджиева но никаких доказательств так и не было представлено.'\n",
    "output_text = 'Генеральный директор симферопольской «Таврии» Александр Гайдаш в перерыве матча против «Гвардейца» (Гвардейское, Симферопольский район) напал на одного из помощников главного арбитра встречи Руслана Селимова. Об этом сообщает Matcday. Команды встречались в игре третьего тура Всекрымского турнира-2015. Гайдаш ворвался в судейскую и нанес Селимову несколько ударов. Почти сразу был вызван наряд полиции, но главный арбитр встречи Дмитрий Грачев принял решение не останавливать поединок. Вышел на матч и сам пострадавший помощник рефери. После игры был составлен протокол. Свидетелями выступили арбитр и второй помощник. Инспектор матча Владимир Куцев отметил эпизод в рапорте и отправил его в Федерацию футбола Крыма. Теперь Гайдашу грозят серьезные санкции. Агрессивная реакция Александра Гайдаша на действия помощника рефери была спровоцирована решением ассистента об отмене в первом тайме гола «Таврии» за нападение на вратаря соперников. Встреча завершилась победой «Гвардейца» со счетом 1:0. В августе 2011 года в перерыве матча чемпионата России по футболу между махачкалинским «Анжи» и московским «Динамо» (2:1) неизвестный сломал дверь в коридоре, ведущем в судейскую комнату и комнату делегата матча. Подозрения пали на главного тренера команды из Дагестана Гаджи Гаджиева, но никаких доказательств так и не было представлено.'\n",
    "\n",
    "display(HTML(format_diffs(input_text, output_text)))"
   ]
  },
  {
   "cell_type": "code",
   "execution_count": 77,
   "id": "21b29a88-86d6-48ae-9159-434b6b3e7f4e",
   "metadata": {
    "tags": []
   },
   "outputs": [
    {
     "name": "stdout",
     "output_type": "stream",
     "text": [
      "==((====))==  Unsloth 2025.5.6: Fast Qwen3 patching. Transformers: 4.51.3.\n",
      "   \\\\   /|    NVIDIA GeForce RTX 4090. Num GPUs = 1. Max memory: 23.526 GB. Platform: Linux.\n",
      "O^O/ \\_/ \\    Torch: 2.7.0+cu126. CUDA: 8.9. CUDA Toolkit: 12.6. Triton: 3.3.0\n",
      "\\        /    Bfloat16 = TRUE. FA [Xformers = 0.0.30. FA2 = False]\n",
      " \"-____-\"     Free license: http://github.com/unslothai/unsloth\n",
      "Unsloth: Fast downloading is enabled - ignore downloading bars which are red colored!\n"
     ]
    },
    {
     "name": "stderr",
     "output_type": "stream",
     "text": [
      "Unsloth 2025.5.6 patched 28 layers with 28 QKV layers, 28 O layers and 28 MLP layers.\n"
     ]
    }
   ],
   "source": [
    "model, tokenizer = FastLanguageModel.from_pretrained(\n",
    "        model_name='results_qlora/checkpoint-100',\n",
    "        max_seq_length=MAX_SEQ_LENGTH,\n",
    "        dtype=None, # Автоматический выбор или torch.float16, torch.bfloat16\n",
    "        load_in_4bit=False,\n",
    "        load_in_8bit=False,\n",
    "        token=HF_ACCESS_TOKEN,\n",
    "    )"
   ]
  },
  {
   "cell_type": "code",
   "execution_count": 78,
   "id": "9089f600-47e3-4c8b-9d2d-b2c182a8dfc5",
   "metadata": {
    "tags": []
   },
   "outputs": [
    {
     "name": "stdout",
     "output_type": "stream",
     "text": [
      "system\n",
      "Отредактируйте следующий текст. Очень важно, чтобы вы сохранили как можно больше оригинального текста. Вы можете вносить небольшие и нечастые правки, которые исправляют только грамматические, орфографические или пунктационные ошибки. Если в предложении нет ошибок, повторите предложение дословно. Не объясняйте свои правки и не добавляйте примечания. Используйте только русский язык.\n",
      "user\n",
      "Генеральный диретор симферопольской «Таврии» Александер Гайдаш в перерыве матча против «Гвардейца» (Гвардейское Симферопольский район) напал на одного из помошников главного арбитра встречи Руслана Селимова. Об этом сообщает Matcday. Команды встречались в игре третьего тура Всекрымского турнира-2015. Гайдаш ворвался в судейскую и нанес Селимову несколько ударов. Почти сразу был вызван наряд полиции, но главный арбитр встречи Дмитрий Грачев принял решение, не останавливать поединок. Вышел на матч, и сам пострадавший помощник рефери. После игры, был составлен протокол. Свидетелями выступили арбитр, и второй помощник. Инспектор матча Владимир Куцев, отметил эпизод в рапорте и отправил его в Федерацию футбола Крыма. Теперь Гайдашу грозят серьёзные санкции. Агрессивная реакция Александра Гайдаша, на действия помощника рефери была спровоцирована решением ассистента об отмене, в первом тайме гола «Таврии» за нападение на вратаря соперников. Встреча завершилась победой «Гвардейца» со счетом 1:0. В августе 2011 года в перерыве матча чемпионата России по футболу между махачкалинским «Анжи» и московским «Динамо» (2:1), неизвестный сломал дверь в коридоре ведущем в судейскую комнату и комнату делегата матча. Подозрения пали на главного тренера команды из Дагестана Гаджи Гаджиева но никаких доказательств так и не было представлено.\n",
      "assistant\n",
      "<think>\n",
      "\n",
      "</think>\n",
      "\n",
      "Генеральный директор симферопольской «Таврии» Александр Гайдаш в перерыве матча против «Гвардейца» (Гвардейское, Симферопольский район) напал на одного из помощников главного арбитра встречи Руслана Селимова. Об этом сообщает Matcday. Команды встречались в игре третьего тура Всекрымского турнира-2015. Гайдаш ворвался в судейскую и нанес Селимову несколько ударов. Почти сразу был вызван наряд полиции, но главный арбитр встречи Дмитрий Грачев принял решение не останавливать поединок. Вышел на матч и сам пострадавший помощник рефери. После игры был составлен протокол. Свидетелями выступили арбитр и второй помощник. Инспектор матча Владимир Куцев отметил эпизод в рапорте и отправил его в Федерацию футбола Крыма. Теперь Гайдашу грозят серьезные санкции. Агрессивная реакция Александра Гайдаша на действия помощника рефери была спровоцирована решением ассистента об отмене в первом тайме гола «Таврии» за нападение на вратаря соперников. Встреча завершилась победой «Гвардейца» со счетом 1:0. В августе 2011 года в перерыве матча чемпионата России по футболу между махачкалинским «Анжи» и московским «Динамо» (2:1) неизвестный сломал дверь в коридоре, ведущем в судейскую комнату и комнату делегата матча. Подозрения пали на главного тренера команды из Дагестана Гаджи Гаджиева, но никаких доказательств так и не было представлено. \n",
      "#Турнир #Футбол #Симферополь #Гвардейцы #Гайдаш\n"
     ]
    }
   ],
   "source": [
    "batch = dataset_test_sft['text'][2:3]\n",
    "\n",
    "inputs = tokenizer(\n",
    "    batch, \n",
    "    return_tensors=\"pt\", \n",
    "    padding=True,\n",
    "    truncation=True,\n",
    "    max_length=current_max_len_qlora\n",
    ").to(device)\n",
    "\n",
    "with torch.no_grad():\n",
    "    outputs = model.generate(\n",
    "        **inputs, \n",
    "        max_new_tokens=min(512, MAX_SEQ_LENGTH),\n",
    "        do_sample=False,  # Greedy decoding\n",
    "        pad_token_id=tokenizer_sft.pad_token_id,\n",
    "        eos_token_id=tokenizer_sft.eos_token_id  # Often helpful to add\n",
    "    )\n",
    "\n",
    "generated_text = tokenizer_sft.decode(outputs[0], skip_special_tokens=True)\n",
    "print(generated_text)"
   ]
  },
  {
   "cell_type": "code",
   "execution_count": 80,
   "id": "9545d2c1-fdf4-4e33-9434-a7ab587e1fab",
   "metadata": {
    "tags": []
   },
   "outputs": [
    {
     "name": "stderr",
     "output_type": "stream",
     "text": [
      "/tmp/ipykernel_1274/2496646625.py:2: DeprecationWarning: Importing display from IPython.core.display is deprecated since IPython 7.14, please import from IPython.display\n",
      "  from IPython.core.display import display, HTML\n"
     ]
    },
    {
     "data": {
      "text/html": [
       "Генеральный <span style=\"color: red; text-decoration: line-through;\">диретор</span> <span style=\"color: green;\">директор</span> симферопольской «Таврии» <span style=\"color: red; text-decoration: line-through;\">Александер</span> <span style=\"color: green;\">Александр</span> Гайдаш в перерыве матча против «Гвардейца» <span style=\"color: red; text-decoration: line-through;\">(Гвардейское</span> <span style=\"color: green;\">(Гвардейское,</span> Симферопольский район) напал на одного из <span style=\"color: red; text-decoration: line-through;\">помошников</span> <span style=\"color: green;\">помощников</span> главного арбитра встречи Руслана Селимова. Об этом сообщает Matcday. Команды встречались в игре третьего тура Всекрымского турнира-2015. Гайдаш ворвался в судейскую и нанес Селимову несколько ударов. Почти сразу был вызван наряд полиции, но главный арбитр встречи Дмитрий Грачев принял <span style=\"color: red; text-decoration: line-through;\">решение,</span> <span style=\"color: green;\">решение</span> не останавливать поединок. Вышел на <span style=\"color: red; text-decoration: line-through;\">матч,</span> <span style=\"color: green;\">матч</span> и сам пострадавший помощник рефери. После <span style=\"color: red; text-decoration: line-through;\">игры,</span> <span style=\"color: green;\">игры</span> был составлен протокол. Свидетелями выступили <span style=\"color: red; text-decoration: line-through;\">арбитр,</span> <span style=\"color: green;\">арбитр</span> и второй помощник. Инспектор матча Владимир <span style=\"color: red; text-decoration: line-through;\">Куцев,</span> <span style=\"color: green;\">Куцев</span> отметил эпизод в рапорте и отправил его в Федерацию футбола Крыма. Теперь Гайдашу грозят <span style=\"color: red; text-decoration: line-through;\">серьёзные</span> <span style=\"color: green;\">серьезные</span> санкции. Агрессивная реакция Александра <span style=\"color: red; text-decoration: line-through;\">Гайдаша,</span> <span style=\"color: green;\">Гайдаша</span> на действия помощника рефери была спровоцирована решением ассистента об <span style=\"color: red; text-decoration: line-through;\">отмене,</span> <span style=\"color: green;\">отмене</span> в первом тайме гола «Таврии» за нападение на вратаря соперников. Встреча завершилась победой «Гвардейца» со счетом 1:0. В августе 2011 года в перерыве матча чемпионата России по футболу между махачкалинским «Анжи» и московским «Динамо» <span style=\"color: red; text-decoration: line-through;\">(2:1),</span> <span style=\"color: green;\">(2:1)</span> неизвестный сломал дверь в <span style=\"color: red; text-decoration: line-through;\">коридоре</span> <span style=\"color: green;\">коридоре,</span> ведущем в судейскую комнату и комнату делегата матча. Подозрения пали на главного тренера команды из Дагестана Гаджи <span style=\"color: red; text-decoration: line-through;\">Гаджиева</span> <span style=\"color: green;\">Гаджиева,</span> но никаких доказательств так и не было представлено. <span style=\"color: green;\">#Турнир</span> <span style=\"color: green;\">#Футбол</span> <span style=\"color: green;\">#Симферополь</span> <span style=\"color: green;\">#Гвардейцы</span> <span style=\"color: green;\">#Гайда</span> "
      ],
      "text/plain": [
       "<IPython.core.display.HTML object>"
      ]
     },
     "metadata": {},
     "output_type": "display_data"
    }
   ],
   "source": [
    "from difflib import ndiff\n",
    "from IPython.core.display import display, HTML\n",
    "\n",
    "def format_diffs(original, corrected):\n",
    "    diffs = list(ndiff(original.split(), corrected.split()))\n",
    "    formatted_text = \"\"\n",
    "    for diff in diffs:\n",
    "        if diff.startswith('-'):\n",
    "            formatted_text += f'<span style=\"color: red; text-decoration: line-through;\">{diff[2:]}</span> '\n",
    "        elif diff.startswith('+'):\n",
    "            formatted_text += f'<span style=\"color: green;\">{diff[2:]}</span> '\n",
    "        elif diff.startswith(' '):\n",
    "            formatted_text += diff[2:] + ' '\n",
    "    return formatted_text\n",
    "\n",
    "input_text = 'Генеральный диретор симферопольской «Таврии» Александер Гайдаш в перерыве матча против «Гвардейца» (Гвардейское Симферопольский район) напал на одного из помошников главного арбитра встречи Руслана Селимова. Об этом сообщает Matcday. Команды встречались в игре третьего тура Всекрымского турнира-2015. Гайдаш ворвался в судейскую и нанес Селимову несколько ударов. Почти сразу был вызван наряд полиции, но главный арбитр встречи Дмитрий Грачев принял решение, не останавливать поединок. Вышел на матч, и сам пострадавший помощник рефери. После игры, был составлен протокол. Свидетелями выступили арбитр, и второй помощник. Инспектор матча Владимир Куцев, отметил эпизод в рапорте и отправил его в Федерацию футбола Крыма. Теперь Гайдашу грозят серьёзные санкции. Агрессивная реакция Александра Гайдаша, на действия помощника рефери была спровоцирована решением ассистента об отмене, в первом тайме гола «Таврии» за нападение на вратаря соперников. Встреча завершилась победой «Гвардейца» со счетом 1:0. В августе 2011 года в перерыве матча чемпионата России по футболу между махачкалинским «Анжи» и московским «Динамо» (2:1), неизвестный сломал дверь в коридоре ведущем в судейскую комнату и комнату делегата матча. Подозрения пали на главного тренера команды из Дагестана Гаджи Гаджиева но никаких доказательств так и не было представлено.'\n",
    "output_text = 'Генеральный директор симферопольской «Таврии» Александр Гайдаш в перерыве матча против «Гвардейца» (Гвардейское, Симферопольский район) напал на одного из помощников главного арбитра встречи Руслана Селимова. Об этом сообщает Matcday. Команды встречались в игре третьего тура Всекрымского турнира-2015. Гайдаш ворвался в судейскую и нанес Селимову несколько ударов. Почти сразу был вызван наряд полиции, но главный арбитр встречи Дмитрий Грачев принял решение не останавливать поединок. Вышел на матч и сам пострадавший помощник рефери. После игры был составлен протокол. Свидетелями выступили арбитр и второй помощник. Инспектор матча Владимир Куцев отметил эпизод в рапорте и отправил его в Федерацию футбола Крыма. Теперь Гайдашу грозят серьезные санкции. Агрессивная реакция Александра Гайдаша на действия помощника рефери была спровоцирована решением ассистента об отмене в первом тайме гола «Таврии» за нападение на вратаря соперников. Встреча завершилась победой «Гвардейца» со счетом 1:0. В августе 2011 года в перерыве матча чемпионата России по футболу между махачкалинским «Анжи» и московским «Динамо» (2:1) неизвестный сломал дверь в коридоре, ведущем в судейскую комнату и комнату делегата матча. Подозрения пали на главного тренера команды из Дагестана Гаджи Гаджиева, но никаких доказательств так и не было представлено.  #Турнир #Футбол #Симферополь #Гвардейцы #Гайда'\n",
    "\n",
    "display(HTML(format_diffs(input_text, output_text)))"
   ]
  },
  {
   "cell_type": "code",
   "execution_count": null,
   "id": "1040ade6-fcf2-4657-af4f-3d1c7f1f8699",
   "metadata": {},
   "outputs": [],
   "source": []
  }
 ],
 "metadata": {
  "kernelspec": {
   "display_name": "Python 3 (ipykernel)",
   "language": "python",
   "name": "python3"
  },
  "language_info": {
   "codemirror_mode": {
    "name": "ipython",
    "version": 3
   },
   "file_extension": ".py",
   "mimetype": "text/x-python",
   "name": "python",
   "nbconvert_exporter": "python",
   "pygments_lexer": "ipython3",
   "version": "3.10.0"
  }
 },
 "nbformat": 4,
 "nbformat_minor": 5
}
